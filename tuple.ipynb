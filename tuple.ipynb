{
 "cells": [
  {
   "cell_type": "code",
   "execution_count": 1,
   "id": "d1867c98",
   "metadata": {},
   "outputs": [],
   "source": [
    "#Tuple\n",
    "# -indexing\n",
    "# -multiple and duplicate value\n",
    "# -ordered\n",
    "# -imutable"
   ]
  },
  {
   "cell_type": "code",
   "execution_count": 7,
   "id": "8a98298a",
   "metadata": {},
   "outputs": [
    {
     "name": "stdout",
     "output_type": "stream",
     "text": [
      "<class 'tuple'>\n"
     ]
    }
   ],
   "source": [
    "a = (1,2,3,4,)\n",
    "print(type(a))"
   ]
  },
  {
   "cell_type": "code",
   "execution_count": 6,
   "id": "7865ab53",
   "metadata": {},
   "outputs": [
    {
     "name": "stdout",
     "output_type": "stream",
     "text": [
      "<class 'tuple'>\n"
     ]
    }
   ],
   "source": [
    "a = (\"Apple\",)\n",
    "print(type(a))"
   ]
  },
  {
   "cell_type": "code",
   "execution_count": 8,
   "id": "6a481577",
   "metadata": {},
   "outputs": [
    {
     "name": "stdout",
     "output_type": "stream",
     "text": [
      "(10, 11, 12, 13)\n"
     ]
    }
   ],
   "source": [
    "a = 10,11,12,13\n",
    "print(a)"
   ]
  },
  {
   "cell_type": "code",
   "execution_count": 10,
   "id": "e01c68d2",
   "metadata": {},
   "outputs": [
    {
     "name": "stdout",
     "output_type": "stream",
     "text": [
      "10\n",
      "(10, 11, 12)\n",
      "(10, 12)\n"
     ]
    }
   ],
   "source": [
    "a = (10, 11, 12, 13)\n",
    "print(a[0])\n",
    "print(a[0:3])\n",
    "print(a[0:3:2])"
   ]
  },
  {
   "cell_type": "code",
   "execution_count": 11,
   "id": "48cde818",
   "metadata": {},
   "outputs": [],
   "source": [
    "# in tuple\n",
    "# No create\n",
    "# No update\n",
    "# No delete"
   ]
  },
  {
   "cell_type": "code",
   "execution_count": 12,
   "id": "b4174cef",
   "metadata": {},
   "outputs": [
    {
     "name": "stdout",
     "output_type": "stream",
     "text": [
      "Enter c = 2\n",
      "Enter x = Ram\n",
      "Enter x = Shyam\n",
      "('Ram', 'Shyam')\n"
     ]
    }
   ],
   "source": [
    "t = tuple()\n",
    "c = int(input(\"Enter c = \"))\n",
    "for i in range(c):\n",
    "    x = input(\"Enter x = \")\n",
    "    t = t + (x,)\n",
    "    \n",
    "print(t)"
   ]
  },
  {
   "cell_type": "code",
   "execution_count": 13,
   "id": "ade470de",
   "metadata": {},
   "outputs": [],
   "source": [
    "# max() min() sum() sorted()"
   ]
  },
  {
   "cell_type": "code",
   "execution_count": 15,
   "id": "2d32ac36",
   "metadata": {},
   "outputs": [
    {
     "name": "stdout",
     "output_type": "stream",
     "text": [
      "[35, 234, 323, 345, 546, 678, 678, 5678]\n",
      "(234, 546, 678, 345, 5678, 35, 678, 323)\n"
     ]
    }
   ],
   "source": [
    "a = (234,546,678,345,5678,35,678,323)\n",
    "print(sorted(a))\n",
    "print(a)"
   ]
  },
  {
   "cell_type": "code",
   "execution_count": 16,
   "id": "25701e6a",
   "metadata": {},
   "outputs": [
    {
     "data": {
      "text/plain": [
       "[234, 546, 678, 345, 5678, 35, 678, 323]"
      ]
     },
     "execution_count": 16,
     "metadata": {},
     "output_type": "execute_result"
    }
   ],
   "source": [
    "a = (234,546,678,345,5678,35,678,323)\n",
    "b = list(a)\n",
    "b"
   ]
  },
  {
   "cell_type": "code",
   "execution_count": 19,
   "id": "52fe2b5e",
   "metadata": {},
   "outputs": [
    {
     "data": {
      "text/plain": [
       "(546, 678, 345, 5678, 35, 678, 323)"
      ]
     },
     "execution_count": 19,
     "metadata": {},
     "output_type": "execute_result"
    }
   ],
   "source": [
    "a = (234,546,678,345,5678,35,678,323)\n",
    "a = list(a)\n",
    "del a[0]\n",
    "a = tuple(a)\n",
    "a"
   ]
  },
  {
   "cell_type": "code",
   "execution_count": null,
   "id": "cf79e6f6",
   "metadata": {},
   "outputs": [],
   "source": []
  }
 ],
 "metadata": {
  "kernelspec": {
   "display_name": "Python 3 (ipykernel)",
   "language": "python",
   "name": "python3"
  },
  "language_info": {
   "codemirror_mode": {
    "name": "ipython",
    "version": 3
   },
   "file_extension": ".py",
   "mimetype": "text/x-python",
   "name": "python",
   "nbconvert_exporter": "python",
   "pygments_lexer": "ipython3",
   "version": "3.9.12"
  }
 },
 "nbformat": 4,
 "nbformat_minor": 5
}
