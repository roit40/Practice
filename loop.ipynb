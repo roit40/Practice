{
 "cells": [
  {
   "cell_type": "code",
   "execution_count": 1,
   "id": "4abc40ec",
   "metadata": {},
   "outputs": [],
   "source": [
    "# loop\n",
    "# for loop\n",
    "# while"
   ]
  },
  {
   "cell_type": "code",
   "execution_count": 2,
   "id": "d43cb44a",
   "metadata": {},
   "outputs": [],
   "source": [
    "# for loop\n",
    "# range(5)         (0,1,2,3,4) for(i=0; i<5; i++)\n",
    "# range(1,5)       (1,2,3,4) for(i=1; i<5; i++)\n",
    "# range(1,5,2)     (1,3) for(i=1; i<5; i=i+2)"
   ]
  },
  {
   "cell_type": "code",
   "execution_count": 5,
   "id": "afc1ef77",
   "metadata": {},
   "outputs": [
    {
     "name": "stdout",
     "output_type": "stream",
     "text": [
      "Hello World\n",
      "Hello World\n",
      "Hello World\n",
      "Hello World\n",
      "Hello World\n"
     ]
    }
   ],
   "source": [
    "for i in range(5):\n",
    "    print(\"Hello World\")"
   ]
  },
  {
   "cell_type": "code",
   "execution_count": 6,
   "id": "da1b2338",
   "metadata": {},
   "outputs": [
    {
     "name": "stdout",
     "output_type": "stream",
     "text": [
      "1 Hello World\n",
      "2 Hello World\n",
      "3 Hello World\n",
      "4 Hello World\n"
     ]
    }
   ],
   "source": [
    "for i in range(1,5):\n",
    "    print(i,\"Hello World\")"
   ]
  },
  {
   "cell_type": "code",
   "execution_count": 7,
   "id": "aaaaded1",
   "metadata": {},
   "outputs": [
    {
     "name": "stdout",
     "output_type": "stream",
     "text": [
      "1 Hello World\n",
      "3 Hello World\n"
     ]
    }
   ],
   "source": [
    "for i in range(1,5,2):\n",
    "    print(i,\"Hello World\")"
   ]
  },
  {
   "cell_type": "code",
   "execution_count": 8,
   "id": "5a0c78b5",
   "metadata": {
    "scrolled": true
   },
   "outputs": [
    {
     "name": "stdout",
     "output_type": "stream",
     "text": [
      "5\n",
      "10\n",
      "15\n",
      "20\n",
      "25\n",
      "30\n",
      "35\n",
      "40\n",
      "45\n",
      "50\n"
     ]
    }
   ],
   "source": [
    "n = 5\n",
    "for i in range(1,11):\n",
    "    print(n*i)"
   ]
  },
  {
   "cell_type": "code",
   "execution_count": 11,
   "id": "d9e259a8",
   "metadata": {},
   "outputs": [
    {
     "name": "stdout",
     "output_type": "stream",
     "text": [
      "Enter n = 5\n",
      "5 * 1 = 5\n",
      "5 * 2 = 10\n",
      "5 * 3 = 15\n",
      "5 * 4 = 20\n",
      "5 * 5 = 25\n",
      "5 * 6 = 30\n",
      "5 * 7 = 35\n",
      "5 * 8 = 40\n",
      "5 * 9 = 45\n",
      "5 * 10 = 50\n"
     ]
    }
   ],
   "source": [
    "n = int(input(\"Enter n = \"))\n",
    "for i in range(1,11):\n",
    "    print(n,\"*\",i,\"=\",n*i)"
   ]
  },
  {
   "cell_type": "code",
   "execution_count": 13,
   "id": "7d45777e",
   "metadata": {},
   "outputs": [
    {
     "name": "stdout",
     "output_type": "stream",
     "text": [
      "Enter c = 2\n",
      "Enter n = 43\n",
      "Enter n = 54\n"
     ]
    }
   ],
   "source": [
    "c = int(input(\"Enter c = \"))\n",
    "for i in range(c):\n",
    "    n = int(input(\"Enter n = \"))\n",
    "    "
   ]
  },
  {
   "cell_type": "code",
   "execution_count": 15,
   "id": "42277951",
   "metadata": {},
   "outputs": [
    {
     "name": "stdout",
     "output_type": "stream",
     "text": [
      "Enter c = 5\n",
      "Enter money = 234\n",
      "Enter money = 456\n",
      "Enter money = 234\n",
      "Enter money = 456\n",
      "Enter money = 234\n",
      "1614\n"
     ]
    }
   ],
   "source": [
    "s = 0\n",
    "c = int(input(\"Enter c = \"))\n",
    "for i in range(c):\n",
    "    n = int(input(\"Enter money = \"))\n",
    "    s = s+n\n",
    "print(s)"
   ]
  },
  {
   "cell_type": "code",
   "execution_count": 20,
   "id": "e7628bf8",
   "metadata": {},
   "outputs": [
    {
     "name": "stdout",
     "output_type": "stream",
     "text": [
      "Enter c = 3\n",
      "Enter name = RAm\n",
      "Enter name = Shyam\n",
      "Enter name = Hari\n",
      "RAm\n",
      "Shyam\n",
      "Hari\n",
      "\n"
     ]
    }
   ],
   "source": [
    "s = str()\n",
    "# s = \"\"\n",
    "c = int(input(\"Enter c = \"))\n",
    "for i in range(c):\n",
    "    n = input(\"Enter name = \")\n",
    "    s = s+n+\"\\n\"\n",
    "print(s)"
   ]
  },
  {
   "cell_type": "code",
   "execution_count": 23,
   "id": "ac95e50b",
   "metadata": {},
   "outputs": [
    {
     "name": "stdout",
     "output_type": "stream",
     "text": [
      "Enter c = 2\n",
      "Enter name = Ram\n",
      "Enter phone = 9808778765\n",
      "Enter name = Shyam\n",
      "Enter phone = 9808778765\n",
      "Ram 9808778765\n",
      "Shyam 9808778765\n",
      "\n"
     ]
    }
   ],
   "source": [
    "s = str()\n",
    "# s = \"\"\n",
    "c = int(input(\"Enter c = \"))\n",
    "for i in range(c):\n",
    "    name = input(\"Enter name = \")\n",
    "    phone = input(\"Enter phone = \")\n",
    "    \n",
    "    s = s + name + \" \"+phone + \"\\n\"\n",
    "print(s)"
   ]
  },
  {
   "cell_type": "code",
   "execution_count": 24,
   "id": "d6706bc5",
   "metadata": {},
   "outputs": [
    {
     "name": "stdout",
     "output_type": "stream",
     "text": [
      "Enter c = 5\n",
      "120\n"
     ]
    }
   ],
   "source": [
    "#4! = 1*2*3*4\n",
    "s = 1\n",
    "c = int(input(\"Enter c = \"))\n",
    "for i in range(1,c+1):\n",
    "    s = s*i\n",
    "print(s)"
   ]
  },
  {
   "cell_type": "code",
   "execution_count": null,
   "id": "80d026e4",
   "metadata": {},
   "outputs": [],
   "source": [
    "WAP to calculate the sum of the numbers from n1 to n2\n",
    "WAP to calculate the multiplication of the numbers from n1 to n2"
   ]
  }
 ],
 "metadata": {
  "kernelspec": {
   "display_name": "Python 3 (ipykernel)",
   "language": "python",
   "name": "python3"
  },
  "language_info": {
   "codemirror_mode": {
    "name": "ipython",
    "version": 3
   },
   "file_extension": ".py",
   "mimetype": "text/x-python",
   "name": "python",
   "nbconvert_exporter": "python",
   "pygments_lexer": "ipython3",
   "version": "3.9.12"
  }
 },
 "nbformat": 4,
 "nbformat_minor": 5
}
