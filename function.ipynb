{
 "cells": [
  {
   "cell_type": "code",
   "execution_count": 1,
   "id": "a7b2ca1a",
   "metadata": {},
   "outputs": [],
   "source": [
    "# pre defined \n",
    "# print() int() float() str() type()"
   ]
  },
  {
   "cell_type": "code",
   "execution_count": 2,
   "id": "f2a75bc5",
   "metadata": {},
   "outputs": [],
   "source": [
    "# def <function_name>():\n",
    "#     <operations>\n",
    "    \n",
    "# <function_name>()"
   ]
  },
  {
   "cell_type": "code",
   "execution_count": 5,
   "id": "d89bda41",
   "metadata": {},
   "outputs": [
    {
     "name": "stdout",
     "output_type": "stream",
     "text": [
      "Hello World\n",
      "Hello World\n"
     ]
    }
   ],
   "source": [
    " # function with no argument and no retrn type\n",
    "\n",
    "    def hello():               #defined function\n",
    "    print(\"Hello World\")\n",
    "    \n",
    "hello()                  #call function\n",
    "hello()"
   ]
  },
  {
   "cell_type": "code",
   "execution_count": 7,
   "id": "dc50e2cf",
   "metadata": {},
   "outputs": [
    {
     "name": "stdout",
     "output_type": "stream",
     "text": [
      "Enter l = 213\n",
      "Enter b = 4\n",
      "Enter h = 5\n",
      "4260\n"
     ]
    }
   ],
   "source": [
    "# function with no argument and no retrn type\n",
    "\n",
    "def cal():\n",
    "    l = int(input(\"Enter l = \"))         #local variable\n",
    "    b = int(input(\"Enter b = \"))         #local variable\n",
    "    h = int(input(\"Enter h = \"))         #local variable\n",
    "    v = l*b*h\n",
    "    print(v)\n",
    "    \n",
    "cal()"
   ]
  },
  {
   "cell_type": "code",
   "execution_count": null,
   "id": "5badde44",
   "metadata": {},
   "outputs": [],
   "source": [
    "l = int(input(\"Enter l = \"))         #Global variable\n",
    "b = int(input(\"Enter b = \"))         #Global variable\n",
    "h = int(input(\"Enter h = \"))         #Global variable\n",
    "def cal():\n",
    "    v = l*b*h\n",
    "    print(v)\n",
    "    \n",
    "cal()"
   ]
  },
  {
   "cell_type": "code",
   "execution_count": 8,
   "id": "0e6001d2",
   "metadata": {},
   "outputs": [],
   "source": [
    "# function with no argument and no retrn type\n",
    "# function with argument and no retrn type\n",
    "# function with no argument and retrn type\n",
    "# function with argument and retrn type"
   ]
  },
  {
   "cell_type": "code",
   "execution_count": 11,
   "id": "3323aa33",
   "metadata": {},
   "outputs": [],
   "source": [
    "# function with argument and no retrn type\n",
    "# argument\n",
    "def hello(x):                   #parameter\n",
    "    print(x)\n",
    "    \n",
    "hello(\"Hello World\")            #argument"
   ]
  },
  {
   "cell_type": "code",
   "execution_count": 12,
   "id": "596e2a86",
   "metadata": {},
   "outputs": [
    {
     "name": "stdout",
     "output_type": "stream",
     "text": [
      "Hello World\n"
     ]
    }
   ],
   "source": [
    "# function with argument and no retrn type\n",
    "# argument\n",
    "def hello(x,y):                   #parameter\n",
    "    print(x,y)\n",
    "    \n",
    "hello(\"Hello\", \"World\")            #argument"
   ]
  },
  {
   "cell_type": "code",
   "execution_count": null,
   "id": "7a134616",
   "metadata": {},
   "outputs": [],
   "source": [
    "def cal(x,y,z):                     #x,y,z -> parameter\n",
    "    v = x*y*z\n",
    "    print(v)\n",
    "    \n",
    "l = int(input(\"Enter l = \"))         #Global variable\n",
    "b = int(input(\"Enter b = \"))         #Global variable\n",
    "h = int(input(\"Enter h = \"))         #Global variable\n",
    "cal(l,b,h)                           #argument"
   ]
  },
  {
   "cell_type": "code",
   "execution_count": 13,
   "id": "a7d4856a",
   "metadata": {},
   "outputs": [
    {
     "name": "stdout",
     "output_type": "stream",
     "text": [
      "Php\n",
      "Java\n",
      "R\n",
      "C#\n",
      "Python\n"
     ]
    }
   ],
   "source": [
    "def language(lan = \"Python\"):\n",
    "    print(lan)\n",
    "    \n",
    "language(\"Php\")\n",
    "language(\"Java\")\n",
    "language(\"R\")\n",
    "language(\"C#\")\n",
    "language()"
   ]
  },
  {
   "cell_type": "code",
   "execution_count": null,
   "id": "9a584b53",
   "metadata": {},
   "outputs": [],
   "source": [
    "def area(l,b):\n",
    "    a = l*b\n",
    "    print(a)\n",
    "\n",
    "def volume(l,b,h):\n",
    "    v = l*b*h\n",
    "    print(v)\n",
    "    \n",
    "    \n",
    "l = int(input(\"Enter l = \"))         #Global variable\n",
    "b = int(input(\"Enter b = \"))         #Global variable\n",
    "h = int(input(\"Enter h = \"))         #Global variable\n",
    "\n",
    "volume(l,b,h)\n",
    "area(l,b)"
   ]
  },
  {
   "cell_type": "code",
   "execution_count": 16,
   "id": "7574f97f",
   "metadata": {},
   "outputs": [
    {
     "name": "stdout",
     "output_type": "stream",
     "text": [
      "Hello World\n"
     ]
    }
   ],
   "source": [
    "# return type function\n",
    "def hello():\n",
    "    return \"Hello World\"\n",
    "\n",
    "print(hello())"
   ]
  },
  {
   "cell_type": "code",
   "execution_count": 18,
   "id": "72b46835",
   "metadata": {},
   "outputs": [
    {
     "name": "stdout",
     "output_type": "stream",
     "text": [
      "Hello world I am  Python\n"
     ]
    }
   ],
   "source": [
    "# return type function\n",
    "def hello():\n",
    "    return \"Python\"\n",
    "\n",
    "print(\"Hello world I am \",hello())"
   ]
  },
  {
   "cell_type": "code",
   "execution_count": null,
   "id": "7d90225d",
   "metadata": {},
   "outputs": [],
   "source": [
    "# function with argument and retrn type\n",
    "def area(l,b):\n",
    "    a = l*b\n",
    "    return a\n",
    "    \n",
    "    \n",
    "l = int(input(\"Enter l = \"))         #Global variable\n",
    "b = int(input(\"Enter b = \"))         #Global variable\n",
    "h = int(input(\"Enter h = \"))         #Global variable\n",
    "\n",
    "ar = area(l,b)\n",
    "volume = ar*h\n",
    "print(\"Volume = \",volume)"
   ]
  },
  {
   "cell_type": "code",
   "execution_count": null,
   "id": "bd271f64",
   "metadata": {},
   "outputs": [],
   "source": [
    "# function with argument and retrn type\n",
    "def area(l,b):\n",
    "    a = l*b\n",
    "    return a\n",
    "    \n",
    "def volume(l,b,h):\n",
    "    v = area(l,b)*h\n",
    "    return v\n",
    "    \n",
    "l = int(input(\"Enter l = \"))         #Global variable\n",
    "b = int(input(\"Enter b = \"))         #Global variable\n",
    "h = int(input(\"Enter h = \"))         #Global variable\n",
    "\n",
    "print(\"The volume = \",volume(l,b,h))"
   ]
  },
  {
   "cell_type": "code",
   "execution_count": 21,
   "id": "b8fe7124",
   "metadata": {},
   "outputs": [
    {
     "name": "stdout",
     "output_type": "stream",
     "text": [
      "Enter l = 123\n",
      "Enter b = 324\n",
      "Enter h = 234\n",
      "The area =  39852\n",
      "The volume =  9325368\n"
     ]
    }
   ],
   "source": [
    "# function with argument and retrn type\n",
    "def area(l,b):\n",
    "    a = l*b\n",
    "    return a\n",
    "    \n",
    "def volume(l,b,h):\n",
    "    a = area(l,b)\n",
    "    v = a*h\n",
    "    return a,v\n",
    "    \n",
    "l = int(input(\"Enter l = \"))         #Global variable\n",
    "b = int(input(\"Enter b = \"))         #Global variable\n",
    "h = int(input(\"Enter h = \"))         #Global variable\n",
    "\n",
    "x,y = volume(l,b,h)\n",
    "print(\"The area = \",x)\n",
    "print(\"The volume = \",y)"
   ]
  },
  {
   "cell_type": "code",
   "execution_count": null,
   "id": "228ce9ac",
   "metadata": {},
   "outputs": [],
   "source": [
    "# recursive function\n",
    "def hello():\n",
    "    print(\"Hello World\")\n",
    "    hello()\n",
    "    \n",
    "hello()"
   ]
  },
  {
   "cell_type": "code",
   "execution_count": 1,
   "id": "d2317918",
   "metadata": {},
   "outputs": [
    {
     "name": "stdout",
     "output_type": "stream",
     "text": [
      "Hello World\n",
      "Enter y for more print = y\n",
      "Hello World\n",
      "Enter y for more print = y\n",
      "Hello World\n",
      "Enter y for more print = y\n",
      "Hello World\n",
      "Enter y for more print = y\n",
      "Hello World\n",
      "Enter y for more print = asdasd\n"
     ]
    }
   ],
   "source": [
    "def hello():\n",
    "    print(\"Hello World\")\n",
    "    x = input(\"Enter y for more print = \")\n",
    "    if x == 'y':\n",
    "        hello()\n",
    "    \n",
    "hello()"
   ]
  },
  {
   "cell_type": "code",
   "execution_count": 2,
   "id": "3fad3757",
   "metadata": {},
   "outputs": [
    {
     "name": "stdout",
     "output_type": "stream",
     "text": [
      "3.141592653589793\n"
     ]
    }
   ],
   "source": [
    "import math as m\n",
    "print(m.pi)\n"
   ]
  },
  {
   "cell_type": "code",
   "execution_count": 3,
   "id": "99faccbe",
   "metadata": {},
   "outputs": [
    {
     "data": {
      "text/plain": [
       "100.0"
      ]
     },
     "execution_count": 3,
     "metadata": {},
     "output_type": "execute_result"
    }
   ],
   "source": [
    "a = 10\n",
    "b = 2\n",
    "m.pow(a,b)"
   ]
  },
  {
   "cell_type": "code",
   "execution_count": 5,
   "id": "19534fb3",
   "metadata": {},
   "outputs": [
    {
     "data": {
      "text/plain": [
       "1.0"
      ]
     },
     "execution_count": 5,
     "metadata": {},
     "output_type": "execute_result"
    }
   ],
   "source": [
    "m.sin(m.pi/2)"
   ]
  },
  {
   "cell_type": "code",
   "execution_count": 6,
   "id": "96ea3df3",
   "metadata": {},
   "outputs": [
    {
     "data": {
      "text/plain": [
       "120"
      ]
     },
     "execution_count": 6,
     "metadata": {},
     "output_type": "execute_result"
    }
   ],
   "source": [
    "m.factorial(5)"
   ]
  },
  {
   "cell_type": "code",
   "execution_count": 7,
   "id": "126dd321",
   "metadata": {},
   "outputs": [
    {
     "name": "stdout",
     "output_type": "stream",
     "text": [
      "4\n"
     ]
    }
   ],
   "source": [
    "# Lambda function\n",
    "x = lambda a:a**2\n",
    "print(x(2))"
   ]
  },
  {
   "cell_type": "code",
   "execution_count": 8,
   "id": "291d8205",
   "metadata": {},
   "outputs": [
    {
     "name": "stdout",
     "output_type": "stream",
     "text": [
      "hello world\n"
     ]
    }
   ],
   "source": [
    "x = lambda a:a.lower()\n",
    "print(x(\"Hello World\"))"
   ]
  },
  {
   "cell_type": "code",
   "execution_count": 9,
   "id": "673e556b",
   "metadata": {},
   "outputs": [
    {
     "name": "stdout",
     "output_type": "stream",
     "text": [
      "100\n"
     ]
    }
   ],
   "source": [
    "v = lambda l,b,h:l*b*h\n",
    "print(v(10,5,2))"
   ]
  },
  {
   "cell_type": "code",
   "execution_count": 14,
   "id": "bfdd89be",
   "metadata": {},
   "outputs": [
    {
     "name": "stdout",
     "output_type": "stream",
     "text": [
      "[3, 123]\n",
      "[2, 4, 10, 22]\n"
     ]
    }
   ],
   "source": [
    "Lists = [1,2,3,4,10,123,22]\n",
    "div = list(filter(lambda x:(x%3 == 0),Lists))\n",
    "even = list(filter(lambda x:(x%2 == 0),Lists))\n",
    "\n",
    "print(div)\n",
    "print(even)"
   ]
  },
  {
   "cell_type": "code",
   "execution_count": 16,
   "id": "97e758f3",
   "metadata": {},
   "outputs": [
    {
     "data": {
      "text/plain": [
       "['Apple', 'Ball', 'Fish']"
      ]
     },
     "execution_count": 16,
     "metadata": {},
     "output_type": "execute_result"
    }
   ],
   "source": [
    "a = ['Apple',\"Ball\",\"cat\",\"dog\",\"Fish\"]\n",
    "div = list(filter(lambda x:(x[0].isupper()),a))\n",
    "div"
   ]
  },
  {
   "cell_type": "code",
   "execution_count": 17,
   "id": "8546b4c3",
   "metadata": {},
   "outputs": [
    {
     "data": {
      "text/plain": [
       "('Apple', 'Ball', 'Fish')"
      ]
     },
     "execution_count": 17,
     "metadata": {},
     "output_type": "execute_result"
    }
   ],
   "source": [
    "a = ['Apple',\"Ball\",\"cat\",\"dog\",\"Fish\"]\n",
    "div = tuple(filter(lambda x:(x[0].isupper()),a))\n",
    "div"
   ]
  },
  {
   "cell_type": "code",
   "execution_count": 18,
   "id": "642c330c",
   "metadata": {},
   "outputs": [
    {
     "data": {
      "text/plain": [
       "['apple', 'ball', 'cat', 'dog', 'fish']"
      ]
     },
     "execution_count": 18,
     "metadata": {},
     "output_type": "execute_result"
    }
   ],
   "source": [
    "a = ['Apple',\"Ball\",\"cat\",\"dog\",\"Fish\"]\n",
    "div = list(map(lambda x:x.lower(),a))\n",
    "div"
   ]
  },
  {
   "cell_type": "code",
   "execution_count": 19,
   "id": "85ad11cd",
   "metadata": {},
   "outputs": [
    {
     "data": {
      "text/plain": [
       "[7, 9, 11, 13, 15, 17, 9, 11, 13, 15, 17]"
      ]
     },
     "execution_count": 19,
     "metadata": {},
     "output_type": "execute_result"
    }
   ],
   "source": [
    "a = [1,2,3,4,5,6,2,3,4,5,6]\n",
    "div = list(map(lambda x:x*2+5,a))\n",
    "div"
   ]
  },
  {
   "cell_type": "code",
   "execution_count": 20,
   "id": "218bd0c9",
   "metadata": {},
   "outputs": [
    {
     "data": {
      "text/plain": [
       "['HelloWolrd', 'adsdf', 'sdfsdf', 'sdfyfh']"
      ]
     },
     "execution_count": 20,
     "metadata": {},
     "output_type": "execute_result"
    }
   ],
   "source": [
    "a = [\"Hello Wolrd\",\"ad sdf\",\"sdf sdf\",\"sdf yfh\"]\n",
    "div = list(map(lambda x:x.replace(\" \",\"\"),a))\n",
    "div"
   ]
  },
  {
   "cell_type": "code",
   "execution_count": null,
   "id": "3f14a8c5",
   "metadata": {},
   "outputs": [],
   "source": []
  }
 ],
 "metadata": {
  "kernelspec": {
   "display_name": "Python 3 (ipykernel)",
   "language": "python",
   "name": "python3"
  },
  "language_info": {
   "codemirror_mode": {
    "name": "ipython",
    "version": 3
   },
   "file_extension": ".py",
   "mimetype": "text/x-python",
   "name": "python",
   "nbconvert_exporter": "python",
   "pygments_lexer": "ipython3",
   "version": "3.9.12"
  }
 },
 "nbformat": 4,
 "nbformat_minor": 5
}
