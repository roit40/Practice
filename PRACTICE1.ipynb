{
 "cells": [
  {
   "cell_type": "code",
   "execution_count": 4,
   "id": "3b266c54",
   "metadata": {},
   "outputs": [
    {
     "ename": "ModuleNotFoundError",
     "evalue": "No module named 'pandas'",
     "output_type": "error",
     "traceback": [
      "\u001b[1;31m---------------------------------------------------------------------------\u001b[0m",
      "\u001b[1;31mModuleNotFoundError\u001b[0m                       Traceback (most recent call last)",
      "Cell \u001b[1;32mIn[4], line 28\u001b[0m\n\u001b[0;32m     25\u001b[0m   x \u001b[38;5;241m=\u001b[39m csv\u001b[38;5;241m.\u001b[39mwriter(f)\n\u001b[0;32m     26\u001b[0m   x\u001b[38;5;241m.\u001b[39mwriterows(final_data)\n\u001b[1;32m---> 28\u001b[0m \u001b[38;5;28;01mimport\u001b[39;00m \u001b[38;5;21;01mpandas\u001b[39;00m \u001b[38;5;28;01mas\u001b[39;00m \u001b[38;5;21;01mpd\u001b[39;00m                                                             \u001b[38;5;66;03m# read the CSV file into a pandas dataframe\u001b[39;00m\n\u001b[0;32m     29\u001b[0m df \u001b[38;5;241m=\u001b[39m pd\u001b[38;5;241m.\u001b[39mread_csv(\u001b[38;5;124m'\u001b[39m\u001b[38;5;124mcovid_data.csv\u001b[39m\u001b[38;5;124m'\u001b[39m,index_col \u001b[38;5;241m=\u001b[39m \u001b[38;5;124m\"\u001b[39m\u001b[38;5;124m#\u001b[39m\u001b[38;5;124m\"\u001b[39m)\n\u001b[0;32m     31\u001b[0m \u001b[38;5;66;03m# !pip install plotly == 5.13.0\u001b[39;00m\n",
      "\u001b[1;31mModuleNotFoundError\u001b[0m: No module named 'pandas'"
     ]
    }
   ],
   "source": [
    "from bs4 import BeautifulSoup                                                   # import the BeautifulSoup library to extract data from HTML files\n",
    "import requests                                                                 # import the requests library to fetch the HTML code from a URL  \n",
    "url = BeautifulSoup('https://www.worldometers.info/coronavirus/','html.parser') # create a BeautifulSoup object from the URL\n",
    "code = requests.get(url)                                                        # fetch the HTML code from the URL\n",
    "raw_code = code.text                                                            # extract the text from the HTML code\n",
    "raw_code = BeautifulSoup(raw_code,\"lxml\")                                       # create a new BeautifulSoup object from the raw HTML code\n",
    "table_code = raw_code.table                                                     # extract the table element from the HTML code\n",
    "tags = table_code.find_all('tr')                                                # extract all the rows (tr) from the table\n",
    "\n",
    "data = []                                                                       # create an empty list to store the data\n",
    "for i in tags:                                                                  # iterate over each row and extract its text\n",
    "  data.append(i.text)\n",
    "\n",
    "all_data = []                                                                   # create a new list to store the cleaned data\n",
    "for i in data:                                                                  # iterate over each row in the data list and split it into a list of values\n",
    "  all_data.append(i.split('\\n'))\n",
    "\n",
    "final_data = []                                                                 # remove any empty rows from the all_data list and store it in final_data\n",
    "for i in all_data:\n",
    "  if i[1] != \"\":\n",
    "    final_data.append(i[1:])\n",
    "\n",
    "import csv                                                                      # write the final data to a CSV file\n",
    "with open(\"covid_data.csv\",'w') as f:\n",
    "  x = csv.writer(f)\n",
    "  x.writerows(final_data)\n",
    "\n",
    "import pandas as pd                                                             # read the CSV file into a pandas dataframe\n",
    "df = pd.read_csv('covid_data.csv',index_col = \"#\")\n",
    "\n",
    "# !pip install plotly == 5.13.0\n"
   ]
  },
  {
   "cell_type": "code",
   "execution_count": null,
   "id": "8da4ca30",
   "metadata": {},
   "outputs": [],
   "source": []
  }
 ],
 "metadata": {
  "kernelspec": {
   "display_name": "Python 3 (ipykernel)",
   "language": "python",
   "name": "python3"
  },
  "language_info": {
   "codemirror_mode": {
    "name": "ipython",
    "version": 3
   },
   "file_extension": ".py",
   "mimetype": "text/x-python",
   "name": "python",
   "nbconvert_exporter": "python",
   "pygments_lexer": "ipython3",
   "version": "3.10.5"
  }
 },
 "nbformat": 4,
 "nbformat_minor": 5
}
