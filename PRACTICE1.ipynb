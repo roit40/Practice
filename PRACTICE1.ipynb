{
 "cells": [
  {
   "cell_type": "code",
   "execution_count": 4,
   "id": "3b266c54",
   "metadata": {},
   "outputs": [
    {
     "ename": "ModuleNotFoundError",
     "evalue": "No module named 'pandas'",
     "output_type": "error",
     "traceback": [
      "\u001b[1;31m---------------------------------------------------------------------------\u001b[0m",
      "\u001b[1;31mModuleNotFoundError\u001b[0m                       Traceback (most recent call last)",
      "Cell \u001b[1;32mIn[4], line 28\u001b[0m\n\u001b[0;32m     25\u001b[0m   x \u001b[38;5;241m=\u001b[39m csv\u001b[38;5;241m.\u001b[39mwriter(f)\n\u001b[0;32m     26\u001b[0m   x\u001b[38;5;241m.\u001b[39mwriterows(final_data)\n\u001b[1;32m---> 28\u001b[0m \u001b[38;5;28;01mimport\u001b[39;00m \u001b[38;5;21;01mpandas\u001b[39;00m \u001b[38;5;28;01mas\u001b[39;00m \u001b[38;5;21;01mpd\u001b[39;00m                                                             \u001b[38;5;66;03m# read the CSV file into a pandas dataframe\u001b[39;00m\n\u001b[0;32m     29\u001b[0m df \u001b[38;5;241m=\u001b[39m pd\u001b[38;5;241m.\u001b[39mread_csv(\u001b[38;5;124m'\u001b[39m\u001b[38;5;124mcovid_data.csv\u001b[39m\u001b[38;5;124m'\u001b[39m,index_col \u001b[38;5;241m=\u001b[39m \u001b[38;5;124m\"\u001b[39m\u001b[38;5;124m#\u001b[39m\u001b[38;5;124m\"\u001b[39m)\n\u001b[0;32m     31\u001b[0m \u001b[38;5;66;03m# !pip install plotly == 5.13.0\u001b[39;00m\n",
      "\u001b[1;31mModuleNotFoundError\u001b[0m: No module named 'pandas'"
     ]
    }
   ],
   "source": [
    "from bs4 import BeautifulSoup\n",
    "import requests                                                                  \n",
    "url = BeautifulSoup('https://www.worldometers.info/coronavirus/','html.parser') \n",
    "code = requests.get(url)                                                        \n",
    "raw_code = code.text                                                            \n",
    "raw_code = BeautifulSoup(raw_code,\"lxml\")                                       \n",
    "table_code = raw_code.table                                                     \n",
    "tags = table_code.find_all('tr')                                                \n",
    "\n",
    "data = []                                                                       \n",
    "for i in tags:                                                                  \n",
    "  data.append(i.text)\n",
    "\n",
    "all_data = []                                                                   \n",
    "for i in data:                                                                  \n",
    "  all_data.append(i.split('\\n'))\n",
    "\n",
    "final_data = []                                                                 \n",
    "for i in all_data:\n",
    "  if i[1] != \"\":\n",
    "    final_data.append(i[1:])\n",
    "\n",
    "import csv                                                                      \n",
    "with open(\"covid_data.csv\",'w') as f:\n",
    "  x = csv.writer(f)\n",
    "  x.writerows(final_data)\n",
    "\n",
    "\n",
    "import pandas as pd                                                            \n",
    "df = pd.read_csv('covid_data.csv',index_col = \"#\")\n",
    "\n",
    "x = list(df['Country,Other'])[0:10]\n",
    "ya = list(df['TotalCases'])[0:10]\n",
    "yb = list(df['TotalRecovered'])[0:10]\n",
    "yc = list(df['ActiveCases'])[0:10]\n",
    "y1 = list(map(lambda y: int(y.replace(\",\",\"\")),ya))\n",
    "y2 = list(map(lambda y: int(y.replace(\",\",\"\")),yb))\n",
    "y3 = list(map(lambda y: int(y.replace(\",\",\"\")),yc))\n",
    "\n",
    "# import plotly.graph_objects as go\n",
    "# fig = go.Figure([go.Bar(x=x,y=y1)])\n",
    "# fig.show()\n",
    "\n",
    "\n",
    "# fig = go.Figure(data =[\n",
    "#      go.Bar(name='Total Cases', x=x, y=y1),\n",
    "#      go.Bar(name='Total Recovered', x=x, y=y2),\n",
    "#      go.Bar(name='New recovered', x=x, y=y3)\n",
    "# ])\n",
    "# fig.update_layout(barmode = 'group')\n",
    "# fig.show()\n",
    "\n",
    "import matplotlib.pyplot as plt\n",
    "\n",
    "# Create a figure and axis\n",
    "fig, ax = plt.subplots()\n",
    "\n",
    "# Create a bar chart of the top 10 countries with the most COVID-19 cases\n",
    "ax.bar(x, y1)\n",
    "\n",
    "# Set the title and labels\n",
    "ax.set_title(\"Top 10 Countries with the Most COVID-19 Cases\")\n",
    "ax.set_xlabel(\"Country\")\n",
    "ax.set_ylabel(\"Total Cases (millions)\")\n",
    "\n",
    "# Rotate the x-axis labels for better readability\n",
    "plt.xticks(rotation=45)\n",
    "\n",
    "# Display the plot\n",
    "plt.show()"
   ]
  },
  {
   "cell_type": "code",
   "execution_count": null,
   "id": "7994a942",
   "metadata": {},
   "outputs": [],
   "source": []
  }
 ],
 "metadata": {
  "kernelspec": {
   "display_name": "Python 3 (ipykernel)",
   "language": "python",
   "name": "python3"
  },
  "language_info": {
   "codemirror_mode": {
    "name": "ipython",
    "version": 3
   },
   "file_extension": ".py",
   "mimetype": "text/x-python",
   "name": "python",
   "nbconvert_exporter": "python",
   "pygments_lexer": "ipython3",
   "version": "3.10.5"
  }
 },
 "nbformat": 4,
 "nbformat_minor": 5
}
