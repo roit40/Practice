{
 "cells": [
  {
   "cell_type": "code",
   "execution_count": 4,
   "id": "3042705e",
   "metadata": {},
   "outputs": [
    {
     "name": "stdout",
     "output_type": "stream",
     "text": [
      "1.21.5\n"
     ]
    }
   ],
   "source": [
    "import numpy as np\n",
    "print(np.__version__)   # version check"
   ]
  },
  {
   "cell_type": "code",
   "execution_count": 14,
   "id": "61ae0003",
   "metadata": {},
   "outputs": [
    {
     "name": "stdout",
     "output_type": "stream",
     "text": [
      "<class 'numpy.ndarray'>\n",
      "[1 2 3 4 5 6]\n"
     ]
    }
   ],
   "source": [
    "llist = [ 1,2,3,4,5,6]\n",
    "numpy_array = np.array(llist)\n",
    "print(type(numpy_array))\n",
    "print(numpy_array)"
   ]
  },
  {
   "cell_type": "code",
   "execution_count": 13,
   "id": "83495ca6",
   "metadata": {},
   "outputs": [
    {
     "name": "stdout",
     "output_type": "stream",
     "text": [
      "[ 2  4  6  8 10 12]\n",
      "[3 4 5 6 7 8]\n",
      "[-1  0  1  2  3  4]\n",
      "[0.5 1.  1.5 2.  2.5 3. ]\n",
      "[1 0 1 0 1 0]\n",
      "[0 1 1 2 2 3]\n"
     ]
    }
   ],
   "source": [
    "#Arithematic operations of numpy\n",
    "print(numpy_array * 2)\n",
    "print(numpy_array + 2)\n",
    "print(numpy_array - 2)\n",
    "print(numpy_array / 2)\n",
    "print(numpy_array % 2)\n",
    "print(numpy_array // 2)\n"
   ]
  },
  {
   "cell_type": "code",
   "execution_count": 36,
   "id": "17ea230d",
   "metadata": {},
   "outputs": [
    {
     "name": "stdout",
     "output_type": "stream",
     "text": [
      "(4, 2)\n",
      "int32   --> bit, dataType and dataStorage\n",
      "float64 --> bit, dataType and dataStorage\n",
      "(1, 2, 3) ---> Row, Column, and elements\n"
     ]
    }
   ],
   "source": [
    "#Shape of Array\n",
    "import numpy as np\n",
    "a = np.array([[1,2],[2,3],[3,4],[4,4]])   #data must be symmetric !! \n",
    "print(a.shape)\n",
    "print(a.dtype,\"  --> bit, dataType and dataStorage\")\n",
    "b = np.array([1.1,2.0,3.2])\n",
    "print(b.dtype,\"--> bit, dataType and dataStorage\")\n",
    "b = np.array([[[1,2,3],[2,3,4]]]) # ----> rows and then column\n",
    "print(b.shape,\"---> Row, Column, and elements\")\n",
    " #4 dimension w.r.t ---> 5 --> parallel tasks."
   ]
  },
  {
   "cell_type": "code",
   "execution_count": 12,
   "id": "616090b3",
   "metadata": {},
   "outputs": [
    {
     "name": "stdout",
     "output_type": "stream",
     "text": [
      "[[0. 0. 0.]\n",
      " [0. 0. 0.]\n",
      " [0. 0. 0.]] \n",
      "\n",
      " [[1. 1.]\n",
      " [1. 1.]]\n",
      "\n",
      " [[1 2 3 4]\n",
      " [4 3 2 1]] This is A matrix\n",
      "[[1 2 3 4]\n",
      " [4 3 2 1]]  This is 2/3 matrix\n",
      "[[1]\n",
      " [2]\n",
      " [3]\n",
      " [4]\n",
      " [4]\n",
      " [3]\n",
      " [2]\n",
      " [1]]  This is 2/1 matrix\n",
      "[[1 2 3 4]\n",
      " [4 3 2 1]] Flatten Converted\n",
      "Horizontal Append: \n",
      " [[1 2 4 5]\n",
      " [1 2 4 5]\n",
      " [3 4 3 6]]\n",
      "1\n"
     ]
    }
   ],
   "source": [
    "# NULL and UNIT matrix not math matrix\n",
    "import numpy as np\n",
    "b= np.zeros((3,3))\n",
    "c= np.ones((2,2))\n",
    "print(b,\"\\n\\n\",c)\n",
    "\n",
    "#reshaping a matrix --> ( changing size of matrix ) \n",
    "A = np.array([[1,2,3,4],[4,3,2,1]])\n",
    "print('\\n',A,\"This is A matrix\")\n",
    "print(A.reshape(2,4),\" This is 2/3 matrix\") # Factos of m*n = number of times it can be shaped.\n",
    "print(A.reshape(8,1),\" This is 2/1 matrix\")\n",
    "\n",
    "\n",
    "\n",
    "#Flatten meaning change it into one dimensional\n",
    "A.flatten()\n",
    "print(A,\"Flatten Converted\")"
   ]
  },
  {
   "cell_type": "code",
   "execution_count": 48,
   "id": "0fcaaba7",
   "metadata": {},
   "outputs": [
    {
     "name": "stdout",
     "output_type": "stream",
     "text": [
      "Horizontal Append: \n",
      " [[1 2 4 5]\n",
      " [1 2 4 5]\n",
      " [3 4 3 6]]\n",
      "Horizontal Append: \n",
      " [[1 2]\n",
      " [1 2]\n",
      " [3 4]\n",
      " [4 5]\n",
      " [4 5]\n",
      " [3 6]]\n",
      "Horizontal Append: \n",
      " [[4 5 1 2]\n",
      " [4 5 1 2]\n",
      " [3 6 3 4]]\n",
      "Horizontal Append: \n",
      " [[4 5]\n",
      " [4 5]\n",
      " [3 6]\n",
      " [1 2]\n",
      " [1 2]\n",
      " [3 4]]\n",
      "[1 2 4 5 1 2 4 5 3 4 3 6] This is flattern of C \n",
      "[[0.95059824 0.74958292]\n",
      " [0.53945868 0.5935089 ]] This is randowm number of shape 2/2\n",
      "[[1 6]\n",
      " [9 9]] This is random integer number of size 2/2\n",
      "0.2191784878428945\n",
      "[[19 16 16 15 14 15 16 10 13 13]\n",
      " [17 18 11 19 11 14 14 10 11 12]\n",
      " [15 18 19 14 12 19 14 11 11 12]\n",
      " [12 13 17 11 12 13 16 14 10 18]\n",
      " [17 12 18 10 19 17 17 14 12 17]\n",
      " [15 13 14 18 13 18 15 19 19 14]\n",
      " [13 11 14 17 11 10 19 13 14 11]\n",
      " [18 16 13 16 19 16 15 19 10 11]\n",
      " [12 16 16 18 19 12 17 12 18 10]\n",
      " [17 13 14 17 11 13 10 16 18 18]] This is random integer number of size 10/10\n"
     ]
    }
   ],
   "source": [
    "#hstack() for appending data horizontally\n",
    "import numpy as np\n",
    "a = np.array([[1,2],[1,2],[3,4]])\n",
    "b = np.array([[4,5],[4,5],[3,6]])\n",
    "print('Horizontal Append: \\n', np.hstack((a, b)))\n",
    "print('Horizontal Append: \\n', np.vstack((a, b)))    #order of a and b matters !! \n",
    "print('Horizontal Append: \\n', np.hstack((b, a)))\n",
    "print('Horizontal Append: \\n', np.vstack((b, a)))  \n",
    "C = np.hstack((a,b))\n",
    "print(C.flatten(),\"This is flattern of C \")\n",
    "\n",
    "#Generating random number\n",
    "\n",
    "# Random numbers between [0,1) of shape 2,2 #Normal distribution with mean=0 and varience=1 of shape 2,2\n",
    "print(np.random.rand(2,2),\"This is randowm number of shape 2/2\")\n",
    "\n",
    "# Random integers between [0, 10) of shape 2,2\n",
    "print(np.random.randint(0, 10, size=[2,2]),\"This is random integer number of size 2/2\")\n",
    "\n",
    "# One random number between [0,1)\n",
    "print(np.random.random())\n",
    "\n",
    "print(np.random.randint(10.5, 20.2, size=[10,10]),\"This is random integer number of size 10/10\")"
   ]
  },
  {
   "cell_type": "code",
   "execution_count": 1,
   "id": "d86ffcd9",
   "metadata": {},
   "outputs": [
    {
     "ename": "NameError",
     "evalue": "name 'np' is not defined",
     "output_type": "error",
     "traceback": [
      "\u001b[1;31m---------------------------------------------------------------------------\u001b[0m",
      "\u001b[1;31mNameError\u001b[0m                                 Traceback (most recent call last)",
      "\u001b[1;32m~\\AppData\\Local\\Temp\\ipykernel_72\\28798988.py\u001b[0m in \u001b[0;36m<module>\u001b[1;34m\u001b[0m\n\u001b[0;32m      1\u001b[0m \u001b[1;31m# permutation and combination concept\u001b[0m\u001b[1;33m\u001b[0m\u001b[1;33m\u001b[0m\u001b[0m\n\u001b[1;32m----> 2\u001b[1;33m \u001b[0mprint\u001b[0m\u001b[1;33m(\u001b[0m\u001b[0mnp\u001b[0m\u001b[1;33m.\u001b[0m\u001b[0mrandom\u001b[0m\u001b[1;33m.\u001b[0m\u001b[0mchoice\u001b[0m\u001b[1;33m(\u001b[0m\u001b[1;33m[\u001b[0m\u001b[1;34m'b'\u001b[0m\u001b[1;33m,\u001b[0m\u001b[1;34m'i'\u001b[0m\u001b[1;33m,\u001b[0m\u001b[1;34m'k'\u001b[0m\u001b[1;33m,\u001b[0m\u001b[1;34m'r'\u001b[0m\u001b[1;33m,\u001b[0m\u001b[1;34m'a'\u001b[0m\u001b[1;33m,\u001b[0m\u001b[1;34m'm'\u001b[0m\u001b[1;33m]\u001b[0m\u001b[1;33m,\u001b[0m\u001b[0msize\u001b[0m\u001b[1;33m=\u001b[0m\u001b[1;36m6\u001b[0m\u001b[1;33m)\u001b[0m\u001b[1;33m)\u001b[0m\u001b[1;33m\u001b[0m\u001b[1;33m\u001b[0m\u001b[0m\n\u001b[0m\u001b[0;32m      3\u001b[0m \u001b[1;33m\u001b[0m\u001b[0m\n\u001b[0;32m      4\u001b[0m \u001b[0mprint\u001b[0m\u001b[1;33m(\u001b[0m\u001b[0mnp\u001b[0m\u001b[1;33m.\u001b[0m\u001b[0mrandom\u001b[0m\u001b[1;33m.\u001b[0m\u001b[0mchoice\u001b[0m\u001b[1;33m(\u001b[0m\u001b[1;33m[\u001b[0m\u001b[1;34m'b'\u001b[0m\u001b[1;33m,\u001b[0m\u001b[1;34m'i'\u001b[0m\u001b[1;33m,\u001b[0m\u001b[1;34m'k'\u001b[0m\u001b[1;33m,\u001b[0m\u001b[1;34m'r'\u001b[0m\u001b[1;33m,\u001b[0m\u001b[1;34m'a'\u001b[0m\u001b[1;33m,\u001b[0m\u001b[1;34m'm'\u001b[0m\u001b[1;33m]\u001b[0m\u001b[1;33m,\u001b[0m\u001b[0msize\u001b[0m\u001b[1;33m=\u001b[0m\u001b[1;36m6\u001b[0m\u001b[1;33m,\u001b[0m \u001b[0mp\u001b[0m \u001b[1;33m=\u001b[0m \u001b[1;33m[\u001b[0m\u001b[1;36m0.1\u001b[0m\u001b[1;33m,\u001b[0m\u001b[1;36m0.2\u001b[0m\u001b[1;33m,\u001b[0m\u001b[1;36m0.3\u001b[0m\u001b[1;33m,\u001b[0m\u001b[1;36m0.1\u001b[0m\u001b[1;33m,\u001b[0m\u001b[1;36m0.1\u001b[0m\u001b[1;33m,\u001b[0m\u001b[1;36m0.2\u001b[0m\u001b[1;33m]\u001b[0m\u001b[1;33m)\u001b[0m\u001b[1;33m)\u001b[0m \u001b[1;31m# p means probabily of element of array\u001b[0m\u001b[1;33m\u001b[0m\u001b[1;33m\u001b[0m\u001b[0m\n\u001b[0;32m      5\u001b[0m \u001b[1;33m\u001b[0m\u001b[0m\n",
      "\u001b[1;31mNameError\u001b[0m: name 'np' is not defined"
     ]
    }
   ],
   "source": [
    "# permutation and combination concept\n",
    "print(np.random.choice(['b','i','k','r','a','m'],size=6))\n",
    "\n",
    "print(np.random.choice(['b','i','k','r','a','m'],size=6, p = [0.1,0.2,0.3,0.1,0.1,0.2])) # p means probabily of element of array\n",
    "\n",
    "\n",
    "#Statistical function\n",
    "import numpy as np\n",
    "b = np.random.randint(10, 20, size=[20,20])\n",
    "c = b.flatten()\n",
    "print(c)\n",
    "print(np.max(c))\n",
    "print(np.min(c))\n",
    "print(np.mean(c),np.median(c),np.std(c))\n",
    "\n",
    "import scipy.linalg as slin                   # Scientific python.linear algebra  \n",
    "print(\"Printing determinant of a matrix\",slin.det(b))\n",
    "# print(\"Printing inverse of a matrix\",slin.inv(b))\n",
    "print(np.trace(b))  # Sum of diagonal elements of a matrix"
   ]
  },
  {
   "cell_type": "code",
   "execution_count": 8,
   "id": "1462bb9a",
   "metadata": {},
   "outputs": [
    {
     "name": "stdout",
     "output_type": "stream",
     "text": [
      "[[-19]\n",
      " [  2]\n",
      " [-41]]\n"
     ]
    }
   ],
   "source": [
    "import numpy as np\n",
    "a=np.matrix([[ 3, -5, 8],\n",
    "[-1, 2, 3],\n",
    "[-5, -6, 2]])\n",
    "b=np.matrix([[ 3],[ 4],[-1]])\n",
    "print(a*b)"
   ]
  }
 ],
 "metadata": {
  "kernelspec": {
   "display_name": "Python 3 (ipykernel)",
   "language": "python",
   "name": "python3"
  },
  "language_info": {
   "codemirror_mode": {
    "name": "ipython",
    "version": 3
   },
   "file_extension": ".py",
   "mimetype": "text/x-python",
   "name": "python",
   "nbconvert_exporter": "python",
   "pygments_lexer": "ipython3",
   "version": "3.9.13"
  }
 },
 "nbformat": 4,
 "nbformat_minor": 5
}
