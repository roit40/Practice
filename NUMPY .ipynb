{
 "cells": [
  {
   "cell_type": "code",
   "execution_count": 4,
   "id": "3042705e",
   "metadata": {},
   "outputs": [
    {
     "name": "stdout",
     "output_type": "stream",
     "text": [
      "1.21.5\n"
     ]
    }
   ],
   "source": [
    "import numpy as np\n",
    "print(np.__version__)   # version check"
   ]
  },
  {
   "cell_type": "code",
   "execution_count": 14,
   "id": "61ae0003",
   "metadata": {},
   "outputs": [
    {
     "name": "stdout",
     "output_type": "stream",
     "text": [
      "<class 'numpy.ndarray'>\n",
      "[1 2 3 4 5 6]\n"
     ]
    }
   ],
   "source": [
    "llist = [ 1,2,3,4,5,6]\n",
    "numpy_array = np.array(llist)\n",
    "print(type(numpy_array))\n",
    "print(numpy_array)"
   ]
  },
  {
   "cell_type": "code",
   "execution_count": 13,
   "id": "83495ca6",
   "metadata": {},
   "outputs": [
    {
     "name": "stdout",
     "output_type": "stream",
     "text": [
      "[ 2  4  6  8 10 12]\n",
      "[3 4 5 6 7 8]\n",
      "[-1  0  1  2  3  4]\n",
      "[0.5 1.  1.5 2.  2.5 3. ]\n",
      "[1 0 1 0 1 0]\n",
      "[0 1 1 2 2 3]\n"
     ]
    }
   ],
   "source": [
    "#Arithematic operations of numpy\n",
    "print(numpy_array * 2)\n",
    "print(numpy_array + 2)\n",
    "print(numpy_array - 2)\n",
    "print(numpy_array / 2)\n",
    "print(numpy_array % 2)\n",
    "print(numpy_array // 2)\n"
   ]
  },
  {
   "cell_type": "code",
   "execution_count": 36,
   "id": "17ea230d",
   "metadata": {},
   "outputs": [
    {
     "name": "stdout",
     "output_type": "stream",
     "text": [
      "(4, 2)\n",
      "int32   --> bit, dataType and dataStorage\n",
      "float64 --> bit, dataType and dataStorage\n",
      "(1, 2, 3) ---> Row, Column, and elements\n"
     ]
    }
   ],
   "source": [
    "#Shape of Array\n",
    "import numpy as np\n",
    "a = np.array([[1,2],[2,3],[3,4],[4,4]])   #data must be symmetric !! \n",
    "print(a.shape)\n",
    "print(a.dtype,\"  --> bit, dataType and dataStorage\")\n",
    "b = np.array([1.1,2.0,3.2])\n",
    "print(b.dtype,\"--> bit, dataType and dataStorage\")\n",
    "b = np.array([[[1,2,3],[2,3,4]]]) # ----> rows and then column\n",
    "print(b.shape,\"---> Row, Column, and elements\")\n",
    " #4 dimension w.r.t ---> 5 --> parallel tasks."
   ]
  },
  {
   "cell_type": "code",
   "execution_count": 64,
   "id": "616090b3",
   "metadata": {},
   "outputs": [
    {
     "name": "stdout",
     "output_type": "stream",
     "text": [
      "[[0. 0. 0.]\n",
      " [0. 0. 0.]\n",
      " [0. 0. 0.]] \n",
      "\n",
      " [[1. 1.]\n",
      " [1. 1.]]\n",
      "\n",
      " [[1 2 3 4]\n",
      " [4 3 2 1]] This is A matrix\n",
      "[[1 2 3 4]\n",
      " [4 3 2 1]]  This is 2/3 matrix\n",
      "[[1]\n",
      " [2]\n",
      " [3]\n",
      " [4]\n",
      " [4]\n",
      " [3]\n",
      " [2]\n",
      " [1]]  This is 2/1 matrix\n",
      "[[1 2 3 4]\n",
      " [4 3 2 1]] Flatten Converted\n"
     ]
    }
   ],
   "source": [
    "# NULL and UNIT matrix not math matrix\n",
    "import numpy as np\n",
    "b= np.zeros((3,3))\n",
    "c= np.ones((2,2))\n",
    "print(b,\"\\n\\n\",c)\n",
    "\n",
    "#reshaping a matrix --> ( changing size of matrix ) \n",
    "A = np.array([[1,2,3,4],[4,3,2,1]])\n",
    "print('\\n',A,\"This is A matrix\")\n",
    "print(A.reshape(2,4),\" This is 2/3 matrix\") # Factos of m*n = number of times it can be shaped.\n",
    "print(A.reshape(8,1),\" This is 2/1 matrix\")\n",
    "\n",
    "\n",
    "\n",
    "#Flatten meaning change it into one dimensional\n",
    "A.flatten()\n",
    "print(A,\"Flatten Converted\")\n",
    "\n"
   ]
  },
  {
   "cell_type": "code",
   "execution_count": null,
   "id": "0fcaaba7",
   "metadata": {},
   "outputs": [],
   "source": []
  }
 ],
 "metadata": {
  "kernelspec": {
   "display_name": "Python 3 (ipykernel)",
   "language": "python",
   "name": "python3"
  },
  "language_info": {
   "codemirror_mode": {
    "name": "ipython",
    "version": 3
   },
   "file_extension": ".py",
   "mimetype": "text/x-python",
   "name": "python",
   "nbconvert_exporter": "python",
   "pygments_lexer": "ipython3",
   "version": "3.9.13"
  }
 },
 "nbformat": 4,
 "nbformat_minor": 5
}
