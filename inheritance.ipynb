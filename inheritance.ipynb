{
 "cells": [
  {
   "cell_type": "code",
   "execution_count": 1,
   "id": "dda9ea95",
   "metadata": {},
   "outputs": [],
   "source": [
    "# class A:\n",
    "#     pass\n",
    "\n",
    "# class B(A):\n",
    "#     pass\n",
    "\n",
    "# obj = B()"
   ]
  },
  {
   "cell_type": "code",
   "execution_count": 3,
   "id": "9cfe3963",
   "metadata": {},
   "outputs": [
    {
     "name": "stdout",
     "output_type": "stream",
     "text": [
      "Enter name = Ram\n",
      "Enter age = 78\n",
      "Hello world I am Ram and I am 78 years old.\n",
      "Ram 78\n"
     ]
    }
   ],
   "source": [
    "class Data:                                        #parent\n",
    "    def __init__(self):\n",
    "        self.name = input(\"Enter name = \")\n",
    "        self.age = int(input(\"Enter age = \"))\n",
    "    def data(self):\n",
    "        print(f\"{self.name} {self.age}\")\n",
    "\n",
    "class Info(Data):                                   #child\n",
    "    def info(self):\n",
    "        print(f\"Hello world I am {self.name} and I am {self.age} years old.\")\n",
    "        \n",
    "obj = Info()\n",
    "obj.info()\n",
    "print(obj.name,obj.age)"
   ]
  },
  {
   "cell_type": "code",
   "execution_count": 4,
   "id": "6b98b459",
   "metadata": {},
   "outputs": [
    {
     "name": "stdout",
     "output_type": "stream",
     "text": [
      "Enter name = Ram\n",
      "Enter age = 78\n",
      "Hello world I am Ram and I am 78 years old.\n",
      "Ram 78\n"
     ]
    }
   ],
   "source": [
    "class Data:                                        #parent\n",
    "    def __init__(self,name,age):\n",
    "        self.name = name\n",
    "        self.age = age\n",
    "\n",
    "class Info(Data):                                   #child\n",
    "    def info(self):\n",
    "        print(f\"Hello world I am {self.name} and I am {self.age} years old.\")\n",
    "        \n",
    "name = input(\"Enter name = \")\n",
    "age = int(input(\"Enter age = \"))\n",
    "        \n",
    "obj = Info(name,age)\n",
    "obj.info()\n",
    "print(obj.name,obj.age)"
   ]
  },
  {
   "cell_type": "code",
   "execution_count": null,
   "id": "a640e3b9",
   "metadata": {},
   "outputs": [],
   "source": [
    "class Data:                                        #parent\n",
    "    def __init__(self,name,age):\n",
    "        self.name = name\n",
    "        self.age = age\n",
    "        \n",
    "    def data(self):\n",
    "        print(f\"{self.name} {self.age}\")\n",
    "\n",
    "class Info(Data):#child\n",
    "    def __init__(self,name,age,add):\n",
    "        self.add = add\n",
    "        Data.__init__(self,name,age)\n",
    "    def info(self):\n",
    "        print(f\"Hello world I am {self.name} and I am {self.age} years old.\")\n",
    "        \n",
    "name = input(\"Enter name = \")\n",
    "age = int(input(\"Enter age = \"))\n",
    "phone = int(input(\"Enter phone = \"))\n",
    "        \n",
    "obj = Info(name,age,phone)\n",
    "obj.info()\n",
    "print(obj.name,obj.age)"
   ]
  },
  {
   "cell_type": "code",
   "execution_count": 5,
   "id": "8c7f7d65",
   "metadata": {},
   "outputs": [],
   "source": [
    "# multi-level\n",
    "class A:\n",
    "    pass\n",
    "\n",
    "class B(A):\n",
    "    pass\n",
    " \n",
    "class C(B):\n",
    "    pass\n",
    "\n",
    "obj = C()"
   ]
  },
  {
   "cell_type": "code",
   "execution_count": null,
   "id": "804bc7aa",
   "metadata": {},
   "outputs": [],
   "source": [
    "# multiple\n",
    "class A:\n",
    "    pass\n",
    "\n",
    "class B:\n",
    "    pass\n",
    " \n",
    "class C(A,B):\n",
    "    pass\n",
    "\n",
    "obj = C()"
   ]
  },
  {
   "cell_type": "code",
   "execution_count": null,
   "id": "0349675e",
   "metadata": {},
   "outputs": [],
   "source": [
    "class Age:\n",
    "    def __init__(self,age):\n",
    "        self.age = age\n",
    "    def age(self):\n",
    "        print(f\"Hello World my age is {self.age}\")\n",
    "\n",
    "class Data(Age):                                        #parent\n",
    "    def __init__(self,name,age):\n",
    "        self.name = name\n",
    "        Age.__init__(self,age)\n",
    "        \n",
    "    def data(self):\n",
    "        print(f\"{self.name} {self.age}\")\n",
    "\n",
    "class Info(Data):#child\n",
    "    def __init__(self,name,age,add):\n",
    "        self.add = add\n",
    "        Data.__init__(self,name,age)\n",
    "    def info(self):\n",
    "        print(f\"Hello world I am {self.name} and I am {self.age} years old.\")\n",
    "        \n",
    "name = input(\"Enter name = \")\n",
    "age = int(input(\"Enter age = \"))\n",
    "phone = int(input(\"Enter phone = \"))\n",
    "        \n",
    "obj = Info(name,age,phone)\n",
    "obj.info()\n",
    "print(obj.name,obj.age)"
   ]
  },
  {
   "cell_type": "code",
   "execution_count": 7,
   "id": "11761862",
   "metadata": {},
   "outputs": [
    {
     "name": "stdout",
     "output_type": "stream",
     "text": [
      "Enter name = Ram\n",
      "Enter age = 89\n",
      "Enter phone = 9808778765\n",
      "Hello world I am Ram and I am 89 years old.\n",
      "Ram 89\n"
     ]
    }
   ],
   "source": [
    "class Age:                                        #parent\n",
    "    def __init__(self,age):\n",
    "        self.age = age\n",
    "    def age(self):\n",
    "        print(f\"Hello World my age is {self.age}\")\n",
    "\n",
    "class Data:                                        #parent\n",
    "    def __init__(self,name):\n",
    "        self.name = name\n",
    "        \n",
    "    def data(self):\n",
    "        print(f\"{self.name}\")\n",
    "\n",
    "class Info(Age,Data):                                #child\n",
    "    def __init__(self,name,age,add):\n",
    "        self.add = add\n",
    "        Data.__init__(self,name)\n",
    "        Age.__init__(self,age)\n",
    "        \n",
    "    def info(self):\n",
    "        print(f\"Hello world I am {self.name} and I am {self.age} years old.\")\n",
    "        \n",
    "name = input(\"Enter name = \")\n",
    "age = int(input(\"Enter age = \"))\n",
    "phone = int(input(\"Enter phone = \"))\n",
    "        \n",
    "obj = Info(name,age,phone)\n",
    "obj.info()\n",
    "print(obj.name,obj.age)"
   ]
  },
  {
   "cell_type": "code",
   "execution_count": 2,
   "id": "bd8acc0a",
   "metadata": {},
   "outputs": [
    {
     "name": "stdout",
     "output_type": "stream",
     "text": [
      "Ram\n",
      "45\n"
     ]
    }
   ],
   "source": [
    "# public members\n",
    "class Info:\n",
    "    def __init__(self,name,age):\n",
    "        self.name = name\n",
    "        self.age = age\n",
    "        \n",
    "obj = Info(\"Ram\",45)\n",
    "print(obj.name)\n",
    "print(obj.age)"
   ]
  },
  {
   "cell_type": "code",
   "execution_count": 6,
   "id": "6c97e907",
   "metadata": {},
   "outputs": [
    {
     "name": "stdout",
     "output_type": "stream",
     "text": [
      "Ram\n",
      "45\n"
     ]
    }
   ],
   "source": [
    "# protected members\n",
    "class Info:\n",
    "    def __init__(self,name,age):\n",
    "        self._name = name\n",
    "        self._age = age\n",
    "        \n",
    "obj = Info(\"Ram\",45)\n",
    "print(obj._name)\n",
    "print(obj._age)"
   ]
  },
  {
   "cell_type": "code",
   "execution_count": 7,
   "id": "e0b747a9",
   "metadata": {},
   "outputs": [
    {
     "ename": "AttributeError",
     "evalue": "'Info' object has no attribute '__name'",
     "output_type": "error",
     "traceback": [
      "\u001b[1;31m---------------------------------------------------------------------------\u001b[0m",
      "\u001b[1;31mAttributeError\u001b[0m                            Traceback (most recent call last)",
      "Input \u001b[1;32mIn [7]\u001b[0m, in \u001b[0;36m<cell line: 8>\u001b[1;34m()\u001b[0m\n\u001b[0;32m      5\u001b[0m         \u001b[38;5;28mself\u001b[39m\u001b[38;5;241m.\u001b[39m__age \u001b[38;5;241m=\u001b[39m age\n\u001b[0;32m      7\u001b[0m obj \u001b[38;5;241m=\u001b[39m Info(\u001b[38;5;124m\"\u001b[39m\u001b[38;5;124mRam\u001b[39m\u001b[38;5;124m\"\u001b[39m,\u001b[38;5;241m45\u001b[39m)\n\u001b[1;32m----> 8\u001b[0m \u001b[38;5;28mprint\u001b[39m(\u001b[43mobj\u001b[49m\u001b[38;5;241;43m.\u001b[39;49m\u001b[43m__name\u001b[49m)\n\u001b[0;32m      9\u001b[0m \u001b[38;5;28mprint\u001b[39m(obj\u001b[38;5;241m.\u001b[39m__age)\n",
      "\u001b[1;31mAttributeError\u001b[0m: 'Info' object has no attribute '__name'"
     ]
    }
   ],
   "source": [
    "# private members\n",
    "class Info:\n",
    "    def __init__(self,name,age):\n",
    "        self.__name = name\n",
    "        self.__age = age\n",
    "        \n",
    "obj = Info(\"Ram\",45)\n",
    "print(obj.__name)\n",
    "print(obj.__age)"
   ]
  },
  {
   "cell_type": "code",
   "execution_count": null,
   "id": "d0a6334a",
   "metadata": {},
   "outputs": [],
   "source": [
    "class Data:                                        #parent\n",
    "    def __init__(self):\n",
    "        self._name = input(\"Enter name = \")\n",
    "        self.__age = int(input(\"Enter age = \"))\n",
    "    def data(self):\n",
    "        print(f\"{self._name} {self.__age}\")\n",
    "\n",
    "class Info(Data):                                   #child\n",
    "    def info(self):\n",
    "        print(f\"Hello world I am {self.name}.\")\n",
    "        \n",
    "obj = Info()\n",
    "obj.info()\n",
    "print(obj.name,obj.age)"
   ]
  },
  {
   "cell_type": "code",
   "execution_count": 8,
   "id": "8cb87e8d",
   "metadata": {},
   "outputs": [
    {
     "name": "stdout",
     "output_type": "stream",
     "text": [
      "Enter name = Ram\n",
      "Enter age = 45\n",
      "Enter phone = 34\n",
      "Hello world I am Ram. I am from 34\n",
      "Ram\n"
     ]
    }
   ],
   "source": [
    "class Age:                                        #parent\n",
    "    def __init__(self,age):\n",
    "        self.__age = age\n",
    "    def age(self):\n",
    "        print(f\"Hello World my age is {self.__age}\")\n",
    "\n",
    "class Data:                                        #parent\n",
    "    def __init__(self,name):\n",
    "        self.name = name\n",
    "        \n",
    "    def data(self):\n",
    "        print(f\"{self.name}\")\n",
    "\n",
    "class Info(Age,Data):                                #child\n",
    "    def __init__(self,name,age,add):\n",
    "        self.__add = add\n",
    "        Data.__init__(self,name)\n",
    "        Age.__init__(self,age)\n",
    "        \n",
    "    def info(self):\n",
    "        print(f\"Hello world I am {self.name}. I am from {self.__add}\")\n",
    "        \n",
    "name = input(\"Enter name = \")\n",
    "age = int(input(\"Enter age = \"))\n",
    "phone = int(input(\"Enter phone = \"))\n",
    "        \n",
    "obj = Info(name,age,phone)\n",
    "obj.info()\n",
    "print(obj.name)"
   ]
  },
  {
   "cell_type": "code",
   "execution_count": 9,
   "id": "141ce650",
   "metadata": {},
   "outputs": [
    {
     "name": "stdout",
     "output_type": "stream",
     "text": [
      "Ram\n",
      "45\n"
     ]
    }
   ],
   "source": [
    "# private members\n",
    "class Info:\n",
    "    def __init__(self,name,age):\n",
    "        self.__name = name\n",
    "        self.__age = age\n",
    "        \n",
    "obj = Info(\"Ram\",45)\n",
    "print(obj._Info__name)\n",
    "print(obj._Info__age)"
   ]
  },
  {
   "cell_type": "code",
   "execution_count": 12,
   "id": "213d6e6f",
   "metadata": {},
   "outputs": [
    {
     "name": "stdout",
     "output_type": "stream",
     "text": [
      "Enter name = Ram\n",
      "Enter age = 7\n",
      "Enter phone = 9808778765\n",
      "Hello world I am Ram. I am from 9808778765. I am 7\n",
      "Hello World my age is 7\n",
      "Ram\n"
     ]
    }
   ],
   "source": [
    "class Age:                                        #parent\n",
    "    def __init__(self,age):\n",
    "        self.__age = age\n",
    "    def age(self):\n",
    "        print(f\"Hello World my age is {self.__age}\")\n",
    "\n",
    "class Data:                                        #parent\n",
    "    def __init__(self,name):\n",
    "        self.name = name\n",
    "        \n",
    "    def data(self):\n",
    "        print(f\"{self.name}\")\n",
    "\n",
    "class Info(Age,Data):                                #child\n",
    "    def __init__(self,name,age,add):\n",
    "        self.__add = add\n",
    "        Data.__init__(self,name)\n",
    "        Age.__init__(self,age)\n",
    "        \n",
    "    def info(self):\n",
    "        print(f\"Hello world I am {self.name}. I am from {self.__add}. I am {self._Age__age}\")\n",
    "        super().age()\n",
    "        #Age.age(self)\n",
    "        \n",
    "name = input(\"Enter name = \")\n",
    "age = int(input(\"Enter age = \"))\n",
    "phone = int(input(\"Enter phone = \"))\n",
    "        \n",
    "obj = Info(name,age,phone)\n",
    "obj.info()\n",
    "print(obj.name)"
   ]
  },
  {
   "cell_type": "code",
   "execution_count": null,
   "id": "fda8b4e7",
   "metadata": {},
   "outputs": [],
   "source": []
  }
 ],
 "metadata": {
  "kernelspec": {
   "display_name": "Python 3 (ipykernel)",
   "language": "python",
   "name": "python3"
  },
  "language_info": {
   "codemirror_mode": {
    "name": "ipython",
    "version": 3
   },
   "file_extension": ".py",
   "mimetype": "text/x-python",
   "name": "python",
   "nbconvert_exporter": "python",
   "pygments_lexer": "ipython3",
   "version": "3.9.12"
  }
 },
 "nbformat": 4,
 "nbformat_minor": 5
}
