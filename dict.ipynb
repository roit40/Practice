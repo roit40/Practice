{
 "cells": [
  {
   "cell_type": "code",
   "execution_count": 1,
   "id": "bf99cdf2",
   "metadata": {},
   "outputs": [],
   "source": [
    "# Dictionary\n",
    "# -Indexed\n",
    "# -Ordered\n",
    "# -Multiple and duplicate values\n",
    "# -Mutable"
   ]
  },
  {
   "cell_type": "code",
   "execution_count": 2,
   "id": "36b79106",
   "metadata": {},
   "outputs": [],
   "source": [
    "d = {}\n",
    "#d = dict()\n",
    "#d = {<key>:<value>,<key>:<value>,...}"
   ]
  },
  {
   "cell_type": "code",
   "execution_count": 3,
   "id": "68a9458d",
   "metadata": {},
   "outputs": [
    {
     "data": {
      "text/plain": [
       "dict"
      ]
     },
     "execution_count": 3,
     "metadata": {},
     "output_type": "execute_result"
    }
   ],
   "source": [
    "d = {'a':'Apple','b':'Ball','c':'Cat'}\n",
    "type(d)"
   ]
  },
  {
   "cell_type": "code",
   "execution_count": 6,
   "id": "75f56def",
   "metadata": {},
   "outputs": [
    {
     "name": "stdout",
     "output_type": "stream",
     "text": [
      "Apple\n",
      "Ball\n",
      "Cat\n"
     ]
    }
   ],
   "source": [
    "d = {'a':'Apple','b':'Ball','c':'Cat'}\n",
    "print(d['a'])\n",
    "print(d['b'])\n",
    "print(d['c'])"
   ]
  },
  {
   "cell_type": "code",
   "execution_count": 8,
   "id": "752e6ca9",
   "metadata": {},
   "outputs": [
    {
     "name": "stdout",
     "output_type": "stream",
     "text": [
      "{'a': 'Apple', 'b': 'Ball', 'c': 'Cat'}\n",
      "3\n"
     ]
    }
   ],
   "source": [
    "d = {'a':'Apple','b':'Ball','c':'Cat'}\n",
    "print(d)\n",
    "print(len(d))"
   ]
  },
  {
   "cell_type": "code",
   "execution_count": 9,
   "id": "d3cff62e",
   "metadata": {},
   "outputs": [
    {
     "name": "stdout",
     "output_type": "stream",
     "text": [
      "{'a': 'Apple', 'b': 'Ball', 'c': 'Cat', 'A': 'Apple'}\n"
     ]
    }
   ],
   "source": [
    "d = {'a':'Apple','b':'Ball','c':'Cat','A':'Apple'}\n",
    "print(d)"
   ]
  },
  {
   "cell_type": "code",
   "execution_count": 10,
   "id": "0240c55c",
   "metadata": {},
   "outputs": [
    {
     "name": "stdout",
     "output_type": "stream",
     "text": [
      "{'a': 'Ant', 'b': 'Ball', 'c': 'Cat'}\n"
     ]
    }
   ],
   "source": [
    "d = {'a':'Apple','b':'Ball','c':'Cat','a':'Ant'}\n",
    "print(d)"
   ]
  },
  {
   "cell_type": "code",
   "execution_count": 12,
   "id": "3c8b79f9",
   "metadata": {},
   "outputs": [
    {
     "data": {
      "text/plain": [
       "{'a': 'Apple', 'b': 'Ball', 'cat': 'Cat'}"
      ]
     },
     "execution_count": 12,
     "metadata": {},
     "output_type": "execute_result"
    }
   ],
   "source": [
    "d = {}\n",
    "d['a'] = 'Apple'\n",
    "d['b'] = 'Ball'\n",
    "d['cat'] = 'Cat'\n",
    "d"
   ]
  },
  {
   "cell_type": "code",
   "execution_count": 13,
   "id": "62f23cbf",
   "metadata": {},
   "outputs": [
    {
     "name": "stdout",
     "output_type": "stream",
     "text": [
      "Enter c = 2\n",
      "Enter name = Ram\n",
      "Enter phone = 9808667654\n",
      "Enter name = Shyam\n",
      "Enter phone = 9808778765\n",
      "{'Ram': '9808667654', 'Shyam': '9808778765'}\n"
     ]
    }
   ],
   "source": [
    "d = {}\n",
    "c = int(input(\"Enter c = \"))\n",
    "for i in range(c):\n",
    "    name = input(\"Enter name = \")\n",
    "    phone = input(\"Enter phone = \")\n",
    "    d[name] = phone\n",
    "print(d)"
   ]
  },
  {
   "cell_type": "code",
   "execution_count": 14,
   "id": "354cd89a",
   "metadata": {},
   "outputs": [
    {
     "name": "stdout",
     "output_type": "stream",
     "text": [
      "Ram\n",
      "Shyam\n"
     ]
    }
   ],
   "source": [
    "d = {'Ram': '9808667654', 'Shyam': '9808778765'}\n",
    "for i in d:\n",
    "    print(i)"
   ]
  },
  {
   "cell_type": "code",
   "execution_count": 15,
   "id": "6121f76d",
   "metadata": {},
   "outputs": [
    {
     "name": "stdout",
     "output_type": "stream",
     "text": [
      "9808667654\n",
      "9808778765\n"
     ]
    }
   ],
   "source": [
    "d = {'Ram': '9808667654', 'Shyam': '9808778765'}\n",
    "for i in d.values():\n",
    "    print(i)"
   ]
  },
  {
   "cell_type": "code",
   "execution_count": 16,
   "id": "054717a6",
   "metadata": {},
   "outputs": [
    {
     "name": "stdout",
     "output_type": "stream",
     "text": [
      "('Ram', '9808667654')\n",
      "('Shyam', '9808778765')\n"
     ]
    }
   ],
   "source": [
    "d = {'Ram': '9808667654', 'Shyam': '9808778765'}\n",
    "for i in d.items():\n",
    "    print(i)"
   ]
  },
  {
   "cell_type": "code",
   "execution_count": 17,
   "id": "691f8720",
   "metadata": {},
   "outputs": [
    {
     "data": {
      "text/plain": [
       "[('Ram', '9808667654'), ('Shyam', '9808778765')]"
      ]
     },
     "execution_count": 17,
     "metadata": {},
     "output_type": "execute_result"
    }
   ],
   "source": [
    "l = []\n",
    "d = {'Ram': '9808667654', 'Shyam': '9808778765'}\n",
    "for i in d.items():\n",
    "    l.append(i)\n",
    "l"
   ]
  },
  {
   "cell_type": "code",
   "execution_count": 18,
   "id": "4566d345",
   "metadata": {},
   "outputs": [
    {
     "data": {
      "text/plain": [
       "{'Ram': '9808667654', 'Shyam': '9808778765'}"
      ]
     },
     "execution_count": 18,
     "metadata": {},
     "output_type": "execute_result"
    }
   ],
   "source": [
    "dict(l)"
   ]
  },
  {
   "cell_type": "code",
   "execution_count": 20,
   "id": "addc52c5",
   "metadata": {},
   "outputs": [
    {
     "data": {
      "text/plain": [
       "{'Ram': 9808000000, 'Shyam': '9808778765'}"
      ]
     },
     "execution_count": 20,
     "metadata": {},
     "output_type": "execute_result"
    }
   ],
   "source": [
    "#update\n",
    "d = {'Ram': '9808667654', 'Shyam': '9808778765'}\n",
    "d['Ram'] = 9808000000\n",
    "d"
   ]
  },
  {
   "cell_type": "code",
   "execution_count": 21,
   "id": "87817a9a",
   "metadata": {},
   "outputs": [
    {
     "data": {
      "text/plain": [
       "{'Shyam': '9808778765'}"
      ]
     },
     "execution_count": 21,
     "metadata": {},
     "output_type": "execute_result"
    }
   ],
   "source": [
    "#del pop()\n",
    "d = {'Ram': '9808667654', 'Shyam': '9808778765'}\n",
    "del d['Ram']\n",
    "d"
   ]
  },
  {
   "cell_type": "code",
   "execution_count": 22,
   "id": "ef18c066",
   "metadata": {},
   "outputs": [
    {
     "name": "stdout",
     "output_type": "stream",
     "text": [
      "{'Shyam': '9808778765'}\n",
      "9808667654\n"
     ]
    }
   ],
   "source": [
    "d = {'Ram': '9808667654', 'Shyam': '9808778765'}\n",
    "e = d.pop('Ram')\n",
    "print(d)\n",
    "print(e)"
   ]
  },
  {
   "cell_type": "code",
   "execution_count": 25,
   "id": "9fb985b4",
   "metadata": {},
   "outputs": [
    {
     "name": "stdout",
     "output_type": "stream",
     "text": [
      "['9808667654', '9808888888']\n",
      "9808667654\n"
     ]
    }
   ],
   "source": [
    "# list inside dict\n",
    "d = {'Ram': ['9808667654','9808888888'],\n",
    "     'Shyam': ['9808778765','9845667654']}\n",
    "print(d['Ram'])\n",
    "print(d['Ram'][0])"
   ]
  },
  {
   "cell_type": "code",
   "execution_count": 26,
   "id": "f5302db7",
   "metadata": {},
   "outputs": [
    {
     "name": "stdout",
     "output_type": "stream",
     "text": [
      "Enter c = 2\n",
      "Enter name = Ram\n",
      "Enter ntc phone = 9845778765\n",
      "Enter ncell phone = 9808778765\n",
      "Enter name = Shyam\n",
      "Enter ntc phone = 9845778765\n",
      "Enter ncell phone = 9808667654\n",
      "{'Ram': ['9845778765', '9808778765'], 'Shyam': ['9845778765', '9808667654']}\n"
     ]
    }
   ],
   "source": [
    "d = {}\n",
    "c = int(input(\"Enter c = \"))\n",
    "for i in range(c):\n",
    "    name = input(\"Enter name = \")\n",
    "    ntc_phone = input(\"Enter ntc phone = \")\n",
    "    ncell_phone = input(\"Enter ncell phone = \")\n",
    "    d[name] = [ntc_phone,ncell_phone]\n",
    "print(d)"
   ]
  },
  {
   "cell_type": "code",
   "execution_count": 27,
   "id": "1c308587",
   "metadata": {},
   "outputs": [
    {
     "data": {
      "text/plain": [
       "{'Ram': ['9845778765', '9808778765'],\n",
       " 'Shyam': ['9845778765', '9808667654'],\n",
       " 'Hari': ['9845667654', '9808778765']}"
      ]
     },
     "execution_count": 27,
     "metadata": {},
     "output_type": "execute_result"
    }
   ],
   "source": [
    "d = {'Ram': ['9845778765', '9808778765'], \n",
    "     'Shyam': ['9845778765', '9808667654']}\n",
    "d['Hari'] = ['9845667654','9808778765']\n",
    "d"
   ]
  },
  {
   "cell_type": "code",
   "execution_count": 30,
   "id": "44007dfa",
   "metadata": {},
   "outputs": [
    {
     "data": {
      "text/plain": [
       "{'Ram': ['9845908887', '9808778765'],\n",
       " 'Shyam': ['9845778765', '9808667654'],\n",
       " 'Hari': ['9845667654', '9808778765']}"
      ]
     },
     "execution_count": 30,
     "metadata": {},
     "output_type": "execute_result"
    }
   ],
   "source": [
    "d['Ram'][0] = '9845908887'\n",
    "d"
   ]
  },
  {
   "cell_type": "code",
   "execution_count": 31,
   "id": "bcb68e64",
   "metadata": {},
   "outputs": [],
   "source": [
    "#WAP to create this structure\n",
    "# d = {'sn':[1,2],\n",
    "#     'product':['Momo','Coke'],\n",
    "#     'price':[200,100],\n",
    "#     'quantity':[2,4],\n",
    "#     'total':[400,400]}"
   ]
  },
  {
   "cell_type": "code",
   "execution_count": 34,
   "id": "adcd1898",
   "metadata": {},
   "outputs": [
    {
     "name": "stdout",
     "output_type": "stream",
     "text": [
      "{'sn': 1, 'product': 'Momo', 'quantity': 2, 'price': 200, 'total': 400}\n",
      "Momo\n"
     ]
    }
   ],
   "source": [
    "# dict inside list\n",
    "#WAP to create this structure\n",
    "# l = [{'sn':1,'product':'Momo','quantity':2,'price':200,'total':400},\n",
    "#     {'sn':2,'product':'Coke','quantity':3,'price':100,'total':300}]\n",
    "# print(l[0])\n",
    "# print(l[0]['product'])"
   ]
  },
  {
   "cell_type": "code",
   "execution_count": 35,
   "id": "ee58aa06",
   "metadata": {},
   "outputs": [
    {
     "name": "stdout",
     "output_type": "stream",
     "text": [
      "{1: {'product': 'Momo', 'quantity': 2, 'price': 200, 'total': 400}, 2: {'product': 'Coke', 'quantity': 3, 'price': 100, 'total': 300}}\n"
     ]
    }
   ],
   "source": [
    "# dict inside dict\n",
    "d = {1:{'product':'Momo','quantity':2,'price':200,'total':400},\n",
    "    2:{'product':'Coke','quantity':3,'price':100,'total':300}}\n",
    "print(d)"
   ]
  },
  {
   "cell_type": "code",
   "execution_count": 36,
   "id": "f0790e22",
   "metadata": {},
   "outputs": [
    {
     "name": "stdout",
     "output_type": "stream",
     "text": [
      "Enter c = 2\n",
      "Enter name = Momo\n",
      "Enter quantity = 2\n",
      "Enter price = 200\n",
      "Enter name = Coke\n",
      "Enter quantity = 2\n",
      "Enter price = 80\n",
      "{1: {'product': 'Momo', 'quantity': 2, 'price': 200, 'total': 400}, 2: {'product': 'Coke', 'quantity': 2, 'price': 80, 'total': 160}}\n"
     ]
    }
   ],
   "source": [
    "bill = {}\n",
    "c = int(input(\"Enter c = \"))\n",
    "for i in range(1,c+1):\n",
    "    name = input(\"Enter name = \")\n",
    "    quantity = int(input(\"Enter quantity = \"))\n",
    "    price = int(input(\"Enter price = \"))\n",
    "    total = price*quantity\n",
    "    bill[i] = {'product':name,'quantity':quantity,\n",
    "               'price':price,'total':total}\n",
    "    \n",
    "print(bill)"
   ]
  },
  {
   "cell_type": "code",
   "execution_count": 39,
   "id": "d3da6278",
   "metadata": {},
   "outputs": [
    {
     "data": {
      "text/plain": [
       "{1: {'product': 'Buff Momo', 'quantity': 2, 'price': 200, 'total': 400},\n",
       " 2: {'product': 'Coke', 'quantity': 2, 'price': 80, 'total': 160}}"
      ]
     },
     "execution_count": 39,
     "metadata": {},
     "output_type": "execute_result"
    }
   ],
   "source": [
    "bill[1]['product'] = 'Buff Momo'\n",
    "bill"
   ]
  },
  {
   "cell_type": "code",
   "execution_count": 40,
   "id": "36bd3ce0",
   "metadata": {},
   "outputs": [
    {
     "data": {
      "text/plain": [
       "{1: {'product': 'Buff Momo', 'quantity': 2, 'price': 200, 'total': 400},\n",
       " 2: {'product': 'Coke', 'quantity': 2, 'price': 80, 'total': 160},\n",
       " 3: {'product': 'Snacks', 'quantity': 2, 'price': 80, 'total': 160}}"
      ]
     },
     "execution_count": 40,
     "metadata": {},
     "output_type": "execute_result"
    }
   ],
   "source": [
    "bill[3] = {'product': 'Snacks', 'quantity': 2, 'price': 80, 'total': 160}\n",
    "bill"
   ]
  },
  {
   "cell_type": "code",
   "execution_count": null,
   "id": "ed581918",
   "metadata": {},
   "outputs": [],
   "source": []
  }
 ],
 "metadata": {
  "kernelspec": {
   "display_name": "Python 3 (ipykernel)",
   "language": "python",
   "name": "python3"
  },
  "language_info": {
   "codemirror_mode": {
    "name": "ipython",
    "version": 3
   },
   "file_extension": ".py",
   "mimetype": "text/x-python",
   "name": "python",
   "nbconvert_exporter": "python",
   "pygments_lexer": "ipython3",
   "version": "3.9.12"
  }
 },
 "nbformat": 4,
 "nbformat_minor": 5
}
