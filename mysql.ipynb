{
 "cells": [
  {
   "cell_type": "code",
   "execution_count": 1,
   "id": "00d66063",
   "metadata": {},
   "outputs": [],
   "source": [
    "# !pip install mysql-connector"
   ]
  },
  {
   "cell_type": "code",
   "execution_count": 2,
   "id": "87fca205",
   "metadata": {},
   "outputs": [],
   "source": [
    "import mysql.connector #importing database\n",
    "database = mysql.connector.connect(\n",
    "    host=\"localhost\",\n",
    "    user=\"root\",\n",
    "    password=\"\",\n",
    "  database = \"class414python\"\n",
    ")\n",
    "db = database.cursor()"
   ]
  },
  {
   "cell_type": "code",
   "execution_count": 6,
   "id": "4d3308fc",
   "metadata": {},
   "outputs": [],
   "source": [
    "# select"
   ]
  },
  {
   "cell_type": "code",
   "execution_count": 3,
   "id": "600af42d",
   "metadata": {},
   "outputs": [
    {
     "name": "stdout",
     "output_type": "stream",
     "text": [
      "(1, 'Ram Prasad', 78, 79, 89, 67, 90, 400, 80.0, 'A')\n",
      "(2, 'Shyam ', 89, 67, 98, 67, 34, 420, 82.0, 'A')\n",
      "(3, 'Shyam ', 89, 67, 98, 67, 34, 420, 82.0, 'A')\n",
      "(4, 'Sameer', 0, 0, 0, 0, 0, 0, 0.0, 'F')\n",
      "(5, 'Sameer', 100, 90, 80, 80, 90, 450, 86.0, 'F')\n"
     ]
    }
   ],
   "source": [
    "# Selecting rows and view data\n",
    "db.execute(\"SELECT * FROM student\")\n",
    "result =db.fetchall()\n",
    "for x in result:\n",
    "    print(x)"
   ]
  },
  {
   "cell_type": "code",
   "execution_count": 4,
   "id": "1e97c9bf",
   "metadata": {},
   "outputs": [
    {
     "name": "stdout",
     "output_type": "stream",
     "text": [
      "(1, 'Ram Prasad', 400, 'A')\n",
      "(2, 'Shyam ', 420, 'A')\n",
      "(3, 'Shyam ', 420, 'A')\n",
      "(4, 'Sameer', 0, 'F')\n",
      "(5, 'Sameer', 450, 'F')\n"
     ]
    }
   ],
   "source": [
    "db.execute(\"SELECT sn,name,total,grade FROM student\")\n",
    "result =db.fetchall()\n",
    "for x in result:\n",
    "    print(x)"
   ]
  },
  {
   "cell_type": "code",
   "execution_count": 5,
   "id": "ded2df48",
   "metadata": {},
   "outputs": [
    {
     "name": "stdout",
     "output_type": "stream",
     "text": [
      "(1, 'Ram Prasad', 78, 79, 89, 67, 90, 400, 80.0, 'A')\n",
      "(2, 'Shyam ', 89, 67, 98, 67, 34, 420, 82.0, 'A')\n",
      "(3, 'Shyam ', 89, 67, 98, 67, 34, 420, 82.0, 'A')\n"
     ]
    }
   ],
   "source": [
    "db.execute(\"SELECT * FROM student WHERE grade = 'A'\")\n",
    "result =db.fetchall()\n",
    "for x in result:\n",
    "    print(x)"
   ]
  },
  {
   "cell_type": "code",
   "execution_count": 8,
   "id": "682c6136",
   "metadata": {},
   "outputs": [],
   "source": [
    "# Insert data\n",
    "sql = '''INSERT INTO `student` (`sn`, `name`, `physics`, `chemistry`, `math`, `english`, `nepali`, `total`, `per`, `grade`) \n",
    "VALUES ('6', 'Nabina', '78', '76', '90', '65', '78', '91', '82.5', 'A')'''\n",
    "db.execute(sql)\n",
    "database.commit()"
   ]
  },
  {
   "cell_type": "code",
   "execution_count": 10,
   "id": "2f6a2543",
   "metadata": {},
   "outputs": [
    {
     "name": "stdout",
     "output_type": "stream",
     "text": [
      "Enter name = Rabin\n",
      "Enter physics marks = 89\n",
      "Enter physics chemistry = 78\n",
      "Enter physics math = 98\n",
      "Enter english marks = 67\n",
      "Enter physics nepali = 90\n"
     ]
    }
   ],
   "source": [
    "name = input(\"Enter name = \")\n",
    "physics = int(input(\"Enter physics marks = \"))\n",
    "chemistry = int(input(\"Enter physics chemistry = \"))\n",
    "math = int(input(\"Enter physics math = \"))\n",
    "english = int(input(\"Enter english marks = \"))\n",
    "nepali = int(input(\"Enter physics nepali = \"))\n",
    "total = physics+chemistry+math+english+nepali\n",
    "per = total/5\n",
    "if per >= 80:\n",
    "    grade = 'A'\n",
    "elif per >=60:\n",
    "    grade = 'B'\n",
    "elif per >= 45:\n",
    "    grade = 'C'\n",
    "else:\n",
    "    grade = 'D'\n",
    "    \n",
    "sql = f'''INSERT INTO student (name, physics, chemistry, math, english, nepali, total, per, grade) \n",
    "VALUES ('{name}', {physics}, {chemistry}, {math}, {english}, {nepali}, {total}, {per}, '{grade}')'''\n",
    "db.execute(sql)\n",
    "database.commit()"
   ]
  },
  {
   "cell_type": "code",
   "execution_count": 11,
   "id": "5acdab29",
   "metadata": {},
   "outputs": [],
   "source": [
    "sql = \"UPDATE student SET name = 'Rabina' , grade = 'B' WHERE name = 'Rabin'\"\n",
    "db.execute(sql)\n",
    "database.commit()"
   ]
  },
  {
   "cell_type": "code",
   "execution_count": 12,
   "id": "ccd06df7",
   "metadata": {},
   "outputs": [],
   "source": [
    "sql = \"DELETE FROM student WHERE sn = 5\"\n",
    "db.execute(sql)\n",
    "database.commit()"
   ]
  },
  {
   "cell_type": "code",
   "execution_count": null,
   "id": "b1d74108",
   "metadata": {},
   "outputs": [],
   "source": []
  }
 ],
 "metadata": {
  "kernelspec": {
   "display_name": "Python 3 (ipykernel)",
   "language": "python",
   "name": "python3"
  },
  "language_info": {
   "codemirror_mode": {
    "name": "ipython",
    "version": 3
   },
   "file_extension": ".py",
   "mimetype": "text/x-python",
   "name": "python",
   "nbconvert_exporter": "python",
   "pygments_lexer": "ipython3",
   "version": "3.9.12"
  }
 },
 "nbformat": 4,
 "nbformat_minor": 5
}
