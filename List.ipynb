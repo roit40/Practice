{
 "cells": [
  {
   "cell_type": "code",
   "execution_count": 1,
   "id": "0c3dad36",
   "metadata": {},
   "outputs": [],
   "source": [
    "# Python collection\n",
    "# -List\n",
    "# -Tuple\n",
    "# -Dictionary\n",
    "# -Set"
   ]
  },
  {
   "cell_type": "code",
   "execution_count": 3,
   "id": "77016bc7",
   "metadata": {},
   "outputs": [
    {
     "name": "stdout",
     "output_type": "stream",
     "text": [
      "<class 'list'>\n",
      "<class 'list'>\n",
      "<class 'list'>\n",
      "<class 'list'>\n"
     ]
    }
   ],
   "source": [
    "a = list()\n",
    "#a = []\n",
    "b = ['Apple','Ball','Cat','Dog','Egg']\n",
    "c = [1,2,3,4,5,6,7,8]\n",
    "d  = [1,2,3,'apple','ball','1.3']\n",
    "print(type(a))\n",
    "print(type(b))\n",
    "print(type(c))\n",
    "print(type(d))"
   ]
  },
  {
   "cell_type": "code",
   "execution_count": null,
   "id": "ec736173",
   "metadata": {},
   "outputs": [],
   "source": [
    "# list\n",
    "# -indexing\n",
    "# -multiple and duplicate value\n",
    "# -ordered\n",
    "# -mutable"
   ]
  },
  {
   "cell_type": "code",
   "execution_count": 8,
   "id": "d3e660c4",
   "metadata": {},
   "outputs": [
    {
     "name": "stdout",
     "output_type": "stream",
     "text": [
      "Apple\n",
      "['Apple', 'Ball', 'Cat', 'Dog']\n",
      "['Apple', 'Cat', 'Egg']\n"
     ]
    }
   ],
   "source": [
    "a = ['Apple','Ball','Cat','Dog','Egg']\n",
    "print(a[0])\n",
    "print(a[0:4])\n",
    "print(a[0:5:2])"
   ]
  },
  {
   "cell_type": "code",
   "execution_count": 13,
   "id": "02602331",
   "metadata": {},
   "outputs": [
    {
     "name": "stdout",
     "output_type": "stream",
     "text": [
      "<class 'str'>\n"
     ]
    }
   ],
   "source": [
    "a = ['Apple','Ball','Cat','Dog','Egg','Apple']\n",
    "print(type(a[0]))"
   ]
  },
  {
   "cell_type": "code",
   "execution_count": 12,
   "id": "ec337623",
   "metadata": {},
   "outputs": [
    {
     "data": {
      "text/plain": [
       "['A', 'p', 'p', 'l', 'e']"
      ]
     },
     "execution_count": 12,
     "metadata": {},
     "output_type": "execute_result"
    }
   ],
   "source": [
    "a = list('Apple')\n",
    "a"
   ]
  },
  {
   "cell_type": "code",
   "execution_count": 15,
   "id": "85d09f02",
   "metadata": {},
   "outputs": [
    {
     "name": "stdout",
     "output_type": "stream",
     "text": [
      "['Ball', 'Apple', 'Cat', 'Dog', 'Egg']\n"
     ]
    }
   ],
   "source": [
    "a = ['Ball','Apple','Cat','Dog','Egg']\n",
    "print(a)"
   ]
  },
  {
   "cell_type": "code",
   "execution_count": 16,
   "id": "8a56846f",
   "metadata": {},
   "outputs": [
    {
     "name": "stdout",
     "output_type": "stream",
     "text": [
      "[1, 2, 3, 4, 5, 6, 'Apple', 'Ball', 'Cat']\n"
     ]
    }
   ],
   "source": [
    "# + *\n",
    "a = [1,2,3,4,5,6]\n",
    "b = ['Apple',\"Ball\",\"Cat\"]\n",
    "c = a+b\n",
    "print(c)"
   ]
  },
  {
   "cell_type": "code",
   "execution_count": 17,
   "id": "4279d004",
   "metadata": {},
   "outputs": [
    {
     "name": "stdout",
     "output_type": "stream",
     "text": [
      "[1, 2, 3, 4, 5, 6, 1, 2, 3, 4, 5, 6]\n"
     ]
    }
   ],
   "source": [
    "a = [1,2,3,4,5,6]\n",
    "print(a*2)"
   ]
  },
  {
   "cell_type": "code",
   "execution_count": 18,
   "id": "97ec026c",
   "metadata": {},
   "outputs": [
    {
     "name": "stdout",
     "output_type": "stream",
     "text": [
      "Ball\n",
      "Apple\n",
      "Cat\n",
      "Dog\n",
      "Egg\n"
     ]
    }
   ],
   "source": [
    "a = ['Ball', 'Apple', 'Cat', 'Dog', 'Egg']\n",
    "for i in a:\n",
    "    print(i)"
   ]
  },
  {
   "cell_type": "code",
   "execution_count": 20,
   "id": "cb9fd877",
   "metadata": {},
   "outputs": [
    {
     "name": "stdout",
     "output_type": "stream",
     "text": [
      "Enter c = 5\n",
      "Enter x = 234\n",
      "Enter x = 45\n",
      "Enter x = 234\n",
      "Enter x = 654\n",
      "Enter x = 354\n",
      "[234, 45, 234, 654, 354]\n"
     ]
    }
   ],
   "source": [
    "l = list()\n",
    "c = int(input(\"Enter c = \"))\n",
    "for i in range(c):\n",
    "    x = int(input(\"Enter x = \"))\n",
    "    l = l+[x]\n",
    "    \n",
    "print(l)"
   ]
  },
  {
   "cell_type": "code",
   "execution_count": 22,
   "id": "316ca168",
   "metadata": {},
   "outputs": [
    {
     "name": "stdout",
     "output_type": "stream",
     "text": [
      "The max value =  654\n",
      "The min value =  45\n",
      "The sum value =  1521\n",
      "[45, 234, 234, 354, 654]\n",
      "[654, 354, 234, 234, 45]\n"
     ]
    }
   ],
   "source": [
    "print(\"The max value = \",max(l))\n",
    "print(\"The min value = \",min(l))\n",
    "print(\"The sum value = \",sum(l))\n",
    "l.sort()\n",
    "print(l)\n",
    "l.reverse()\n",
    "print(l)"
   ]
  },
  {
   "cell_type": "code",
   "execution_count": 26,
   "id": "0ecc8b34",
   "metadata": {},
   "outputs": [
    {
     "name": "stdout",
     "output_type": "stream",
     "text": [
      "['ant', 'apple', 'cat', 'zebra', 'zebra']\n"
     ]
    }
   ],
   "source": [
    "a = ['zebra','apple','cat','zebra','ant']\n",
    "a.sort()\n",
    "print(a)"
   ]
  },
  {
   "cell_type": "code",
   "execution_count": 27,
   "id": "f903de30",
   "metadata": {},
   "outputs": [],
   "source": [
    "# append() insert() extend()"
   ]
  },
  {
   "cell_type": "code",
   "execution_count": 29,
   "id": "36ce7ade",
   "metadata": {},
   "outputs": [
    {
     "name": "stdout",
     "output_type": "stream",
     "text": [
      "['Apple', 'Ball']\n"
     ]
    }
   ],
   "source": [
    "a = []\n",
    "a.append('Apple')\n",
    "a.append('Ball')\n",
    "print(a)"
   ]
  },
  {
   "cell_type": "code",
   "execution_count": 31,
   "id": "55a84770",
   "metadata": {},
   "outputs": [
    {
     "name": "stdout",
     "output_type": "stream",
     "text": [
      "Enter c = 3\n",
      "Enter x = Ram\n",
      "Enter x = Shyam\n",
      "Enter x = Hari\n",
      "['Ram', 'Shyam', 'Hari']\n"
     ]
    }
   ],
   "source": [
    "l = []\n",
    "c = int(input(\"Enter c = \"))\n",
    "for i in range(c):\n",
    "    x = input(\"Enter x = \")\n",
    "    l.append(x)\n",
    "    \n",
    "print(l)"
   ]
  },
  {
   "cell_type": "code",
   "execution_count": 33,
   "id": "43c53ed8",
   "metadata": {},
   "outputs": [
    {
     "data": {
      "text/plain": [
       "['ant', 'Apple', 'apple', 'cat', 'zebra', 'zebra']"
      ]
     },
     "execution_count": 33,
     "metadata": {},
     "output_type": "execute_result"
    }
   ],
   "source": [
    "a = ['ant', 'apple', 'cat', 'zebra', 'zebra']\n",
    "a.insert(1,'Apple')\n",
    "a"
   ]
  },
  {
   "cell_type": "code",
   "execution_count": 34,
   "id": "8d9162fe",
   "metadata": {},
   "outputs": [
    {
     "name": "stdout",
     "output_type": "stream",
     "text": [
      "['ant', 'apple', 'cat', 'zebra', 'zebra', 1, 2, 3, 4, 5]\n"
     ]
    }
   ],
   "source": [
    "a = ['ant', 'apple', 'cat', 'zebra', 'zebra']\n",
    "b = [1,2,3,4,5]\n",
    "a.extend(b)\n",
    "print(a)"
   ]
  },
  {
   "cell_type": "code",
   "execution_count": 36,
   "id": "ef01f4ff",
   "metadata": {},
   "outputs": [
    {
     "data": {
      "text/plain": [
       "['Ant', 'Apple', 'apple', 'cat', 'zebra', 'zebra']"
      ]
     },
     "execution_count": 36,
     "metadata": {},
     "output_type": "execute_result"
    }
   ],
   "source": [
    "# update\n",
    "a = ['ant', 'Apple', 'apple', 'cat', 'zebra', 'zebra']\n",
    "a[0] = 'Ant'\n",
    "a"
   ]
  },
  {
   "cell_type": "code",
   "execution_count": 37,
   "id": "b76bd6fc",
   "metadata": {},
   "outputs": [
    {
     "data": {
      "text/plain": [
       "['Ant', 'apple', 'apple', 'cat', 'zebra', 'zebra']"
      ]
     },
     "execution_count": 37,
     "metadata": {},
     "output_type": "execute_result"
    }
   ],
   "source": [
    "# update\n",
    "a = ['ant', 'Apple', 'apple', 'cat', 'zebra', 'zebra']\n",
    "a[0:2] = ['Ant','apple']\n",
    "a"
   ]
  },
  {
   "cell_type": "code",
   "execution_count": 39,
   "id": "349193e9",
   "metadata": {},
   "outputs": [
    {
     "data": {
      "text/plain": [
       "['Apple', 'apple', 'cat', 'zebra', 'zebra']"
      ]
     },
     "execution_count": 39,
     "metadata": {},
     "output_type": "execute_result"
    }
   ],
   "source": [
    "# del remove() pop()\n",
    "a = ['ant', 'Apple', 'apple', 'cat', 'zebra', 'zebra']\n",
    "del a[0]\n",
    "a"
   ]
  },
  {
   "cell_type": "code",
   "execution_count": 40,
   "id": "b452d2aa",
   "metadata": {},
   "outputs": [
    {
     "data": {
      "text/plain": [
       "['zebra']"
      ]
     },
     "execution_count": 40,
     "metadata": {},
     "output_type": "execute_result"
    }
   ],
   "source": [
    "a = ['ant', 'Apple', 'apple', 'cat', 'zebra', 'zebra']\n",
    "del a[0:5]\n",
    "a"
   ]
  },
  {
   "cell_type": "code",
   "execution_count": 41,
   "id": "d8c9bc4c",
   "metadata": {},
   "outputs": [
    {
     "data": {
      "text/plain": [
       "['ant', 'Apple', 'apple', 'zebra', 'zebra']"
      ]
     },
     "execution_count": 41,
     "metadata": {},
     "output_type": "execute_result"
    }
   ],
   "source": [
    "a = ['ant', 'Apple', 'apple', 'cat', 'zebra', 'zebra']\n",
    "a.remove('cat')\n",
    "a"
   ]
  },
  {
   "cell_type": "code",
   "execution_count": 42,
   "id": "427c5b60",
   "metadata": {},
   "outputs": [
    {
     "name": "stdout",
     "output_type": "stream",
     "text": [
      "Enter name = zebra\n",
      "['ant', 'Apple', 'apple', 'cat']\n"
     ]
    }
   ],
   "source": [
    "a = ['ant', 'Apple', 'apple', 'cat', 'zebra', 'zebra']\n",
    "name = input(\"Enter name = \")\n",
    "c = a.count(name)\n",
    "for i in range(c):\n",
    "    a.remove(name)\n",
    "    \n",
    "print(a)"
   ]
  },
  {
   "cell_type": "code",
   "execution_count": 44,
   "id": "ade10410",
   "metadata": {},
   "outputs": [
    {
     "data": {
      "text/plain": [
       "4"
      ]
     },
     "execution_count": 44,
     "metadata": {},
     "output_type": "execute_result"
    }
   ],
   "source": [
    "a = ['ant', 'Apple', 'apple', 'cat', 'zebra', 'zebra']\n",
    "a.index('zebra')"
   ]
  },
  {
   "cell_type": "code",
   "execution_count": 46,
   "id": "739d8160",
   "metadata": {},
   "outputs": [
    {
     "name": "stdout",
     "output_type": "stream",
     "text": [
      "4\n",
      "5\n"
     ]
    }
   ],
   "source": [
    "a = ['ant', 'Apple', 'apple', 'cat', 'zebra', 'zebra']\n",
    "for i in range(len(a)):\n",
    "    if a[i] == 'zebra':\n",
    "        print(i)"
   ]
  },
  {
   "cell_type": "code",
   "execution_count": 47,
   "id": "840eccf0",
   "metadata": {},
   "outputs": [
    {
     "data": {
      "text/plain": [
       "[1, 2, 3, 1, 2, 3]"
      ]
     },
     "execution_count": 47,
     "metadata": {},
     "output_type": "execute_result"
    }
   ],
   "source": [
    "a = [1,2,3]\n",
    "a*2"
   ]
  },
  {
   "cell_type": "code",
   "execution_count": 55,
   "id": "1eb586c5",
   "metadata": {},
   "outputs": [
    {
     "data": {
      "text/plain": [
       "'p'"
      ]
     },
     "execution_count": 55,
     "metadata": {},
     "output_type": "execute_result"
    }
   ],
   "source": [
    "a = ['ant', 'Apple', 'apple', 'cat', 'zebra', 'zebra']\n",
    "a[1][1]"
   ]
  },
  {
   "cell_type": "markdown",
   "id": "6e6bc6a9",
   "metadata": {},
   "source": [
    "# List inside list"
   ]
  },
  {
   "cell_type": "code",
   "execution_count": 9,
   "id": "2c6d5f2a",
   "metadata": {},
   "outputs": [
    {
     "name": "stdout",
     "output_type": "stream",
     "text": [
      "3\n",
      "[7, 8, 9]\n",
      "4\n"
     ]
    }
   ],
   "source": [
    "a = [[1,2,3],\n",
    "     [4,5,6],\n",
    "     [7,8,9]]\n",
    "print(len(a))\n",
    "print(a[2])\n",
    "print(a[1][0])"
   ]
  },
  {
   "cell_type": "code",
   "execution_count": 10,
   "id": "0d50dfcb",
   "metadata": {},
   "outputs": [
    {
     "name": "stdout",
     "output_type": "stream",
     "text": [
      "[['Ram', 34, 'Kathmandu'], ['Shyam', 56, 'Bhaktapur'], ['Hari', 78, 'lalitpur']]\n"
     ]
    }
   ],
   "source": [
    "a = [['Ram',34,'Kathmandu'],\n",
    "    ['Shyam',56,'Bhaktapur'],\n",
    "    ['Hari',78,'lalitpur']]\n",
    "print(a)"
   ]
  },
  {
   "cell_type": "code",
   "execution_count": 12,
   "id": "c3dd6d55",
   "metadata": {},
   "outputs": [
    {
     "name": "stdout",
     "output_type": "stream",
     "text": [
      "Enter c = 2\n",
      "Enter name = Ram\n",
      "Enter age = 45\n",
      "Enter add = Kathmandu\n",
      "Enter name = Shyam\n",
      "Enter age = 89\n",
      "Enter add = Bhaktapur\n"
     ]
    },
    {
     "data": {
      "text/plain": [
       "[['Ram', 45, 'Kathmandu'], ['Shyam', 89, 'Bhaktapur']]"
      ]
     },
     "execution_count": 12,
     "metadata": {},
     "output_type": "execute_result"
    }
   ],
   "source": [
    "data = []\n",
    "c = int(input(\"Enter c = \"))\n",
    "for i in range(c):\n",
    "    name = input(\"Enter name = \")\n",
    "    age = int(input(\"Enter age = \"))\n",
    "    add = input(\"Enter add = \")\n",
    "    data.append([name,age,add])\n",
    "    \n",
    "data"
   ]
  },
  {
   "cell_type": "code",
   "execution_count": 14,
   "id": "0b875c31",
   "metadata": {},
   "outputs": [
    {
     "data": {
      "text/plain": [
       "[['Rama', 55, 'Kathmandu'], ['Shyam', 89, 'Bhaktapur']]"
      ]
     },
     "execution_count": 14,
     "metadata": {},
     "output_type": "execute_result"
    }
   ],
   "source": [
    "# update\n",
    "a = [['Ram', 45, 'Kathmandu'], ['Shyam', 89, 'Bhaktapur']]\n",
    "a[0] = ['Rama', 55, 'Kathmandu']\n",
    "a"
   ]
  },
  {
   "cell_type": "code",
   "execution_count": 15,
   "id": "7e51f823",
   "metadata": {},
   "outputs": [
    {
     "data": {
      "text/plain": [
       "[['Rama', 45, 'Kathmandu'], ['Shyam', 89, 'Bhaktapur']]"
      ]
     },
     "execution_count": 15,
     "metadata": {},
     "output_type": "execute_result"
    }
   ],
   "source": [
    "# update\n",
    "a = [['Ram', 45, 'Kathmandu'], ['Shyam', 89, 'Bhaktapur']]\n",
    "a[0][0] = 'Rama'\n",
    "a"
   ]
  },
  {
   "cell_type": "code",
   "execution_count": 16,
   "id": "a4bc938b",
   "metadata": {},
   "outputs": [
    {
     "data": {
      "text/plain": [
       "[['Shyam', 89, 'Bhaktapur']]"
      ]
     },
     "execution_count": 16,
     "metadata": {},
     "output_type": "execute_result"
    }
   ],
   "source": [
    "#delete\n",
    "a = [['Ram', 45, 'Kathmandu'], ['Shyam', 89, 'Bhaktapur']]\n",
    "del a[0]\n",
    "a"
   ]
  },
  {
   "cell_type": "code",
   "execution_count": 17,
   "id": "78817ba6",
   "metadata": {},
   "outputs": [
    {
     "name": "stdout",
     "output_type": "stream",
     "text": [
      "[['Shyam', 89, 'Bhaktapur']]\n",
      "['Ram', 45, 'Kathmandu']\n"
     ]
    }
   ],
   "source": [
    "a = [['Ram', 45, 'Kathmandu'], ['Shyam', 89, 'Bhaktapur']]\n",
    "b = a.pop(0)\n",
    "print(a)\n",
    "print(b)"
   ]
  },
  {
   "cell_type": "code",
   "execution_count": 20,
   "id": "68f99c86",
   "metadata": {},
   "outputs": [
    {
     "name": "stdout",
     "output_type": "stream",
     "text": [
      "[['Ram', 'Kathmandu'], ['Shyam', 89, 'Bhaktapur']]\n",
      "45\n"
     ]
    }
   ],
   "source": [
    "a = [['Ram', 45, 'Kathmandu'], ['Shyam', 89, 'Bhaktapur']]\n",
    "b = a[0].pop(1)\n",
    "print(a)\n",
    "print(b)"
   ]
  },
  {
   "cell_type": "code",
   "execution_count": 21,
   "id": "296622de",
   "metadata": {},
   "outputs": [
    {
     "data": {
      "text/plain": [
       "[['Ram', 45, 'Kathmandu', 9808667654], ['Shyam', 89, 'Bhaktapur', 9808667652]]"
      ]
     },
     "execution_count": 21,
     "metadata": {},
     "output_type": "execute_result"
    }
   ],
   "source": [
    "a = [['Ram', 45, 'Kathmandu'], ['Shyam', 89, 'Bhaktapur']]\n",
    "a[0].append(9808667654)\n",
    "a[1].append(9808667652)\n",
    "a"
   ]
  },
  {
   "cell_type": "code",
   "execution_count": 25,
   "id": "dff82baa",
   "metadata": {},
   "outputs": [
    {
     "name": "stdout",
     "output_type": "stream",
     "text": [
      "Enter name = Kathmandu\n",
      "['Ram', 45, 'Kathmandu']\n"
     ]
    }
   ],
   "source": [
    "a = [['Ram', 45, 'Kathmandu'], \n",
    "     ['Shyam', 89, 'Bhaktapur'],\n",
    "    ['Akash', 39, 'Jhapa']]\n",
    "name = input(\"Enter name = \")\n",
    "for i in a:\n",
    "    if name in i:\n",
    "        print(i)"
   ]
  },
  {
   "cell_type": "code",
   "execution_count": 26,
   "id": "49cad8fa",
   "metadata": {},
   "outputs": [
    {
     "name": "stdout",
     "output_type": "stream",
     "text": [
      "Enter name = ram\n",
      "['Ram', 45, 'Kathmandu']\n",
      "['Ram', 45, 'Kathmandu']\n"
     ]
    }
   ],
   "source": [
    "a = [['Ram', 45, 'Kathmandu'], \n",
    "     ['Shyam', 89, 'Bhaktapur'],\n",
    "    ['Akash', 39, 'Jhapa'],\n",
    "     ['Ram',45,'Kathmandu']]\n",
    "name = input(\"Enter name = \")\n",
    "for i in a:\n",
    "    if name.lower() == i[0].lower():\n",
    "        print(i)"
   ]
  },
  {
   "cell_type": "code",
   "execution_count": 29,
   "id": "286fd6bb",
   "metadata": {},
   "outputs": [
    {
     "name": "stdout",
     "output_type": "stream",
     "text": [
      "Enter name = Ram\n",
      "0\n",
      "3\n"
     ]
    }
   ],
   "source": [
    "a = [['Ram', 45, 'Kathmandu'], \n",
    "     ['Shyam', 89, 'Bhaktapur'],\n",
    "    ['Akash', 39, 'Jhapa'],\n",
    "     ['Ram',45,'Kathmandu']]\n",
    "name = input(\"Enter name = \")\n",
    "for i in range(len(a)):\n",
    "    if a[i][0] == name:\n",
    "        print(i)"
   ]
  },
  {
   "cell_type": "code",
   "execution_count": null,
   "id": "d45918ad",
   "metadata": {},
   "outputs": [],
   "source": [
    "# WAP to create a matrix\n",
    "# r -> ?\n",
    "# c -> ?\n",
    "# x - > ?\n",
    "# matrix - > r*c\n"
   ]
  }
 ],
 "metadata": {
  "kernelspec": {
   "display_name": "Python 3 (ipykernel)",
   "language": "python",
   "name": "python3"
  },
  "language_info": {
   "codemirror_mode": {
    "name": "ipython",
    "version": 3
   },
   "file_extension": ".py",
   "mimetype": "text/x-python",
   "name": "python",
   "nbconvert_exporter": "python",
   "pygments_lexer": "ipython3",
   "version": "3.9.12"
  }
 },
 "nbformat": 4,
 "nbformat_minor": 5
}
